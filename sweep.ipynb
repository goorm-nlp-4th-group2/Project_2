{
  "cells": [
    {
      "cell_type": "code",
      "execution_count": null,
      "metadata": {
        "colab": {
          "base_uri": "https://localhost:8080/"
        },
        "id": "2supfKwTYazF",
        "outputId": "2428e767-ddef-4e5c-ca7e-95c7f3f120bb"
      },
      "outputs": [
        {
          "output_type": "stream",
          "name": "stdout",
          "text": [
            "+ pip install konlpy\n",
            "Looking in indexes: https://pypi.org/simple, https://us-python.pkg.dev/colab-wheels/public/simple/\n",
            "Requirement already satisfied: konlpy in /usr/local/lib/python3.7/dist-packages (0.6.0)\n",
            "Requirement already satisfied: lxml>=4.1.0 in /usr/local/lib/python3.7/dist-packages (from konlpy) (4.2.6)\n",
            "Requirement already satisfied: JPype1>=0.7.0 in /usr/local/lib/python3.7/dist-packages (from konlpy) (1.4.0)\n",
            "Requirement already satisfied: numpy>=1.6 in /usr/local/lib/python3.7/dist-packages (from konlpy) (1.21.6)\n",
            "Requirement already satisfied: typing-extensions in /usr/local/lib/python3.7/dist-packages (from JPype1>=0.7.0->konlpy) (4.1.1)\n",
            "+ bash -x\n",
            "+ curl -s https://raw.githubusercontent.com/konlpy/konlpy/master/scripts/mecab.sh\n",
            "+ mecab_dicdir=/usr/local/lib/mecab/dic/mecab-ko-dic\n",
            "+ set -e\n",
            "++ uname\n",
            "+ os=Linux\n",
            "+ [[ ! Linux == \\L\\i\\n\\u\\x ]]\n",
            "+ hash sudo\n",
            "+ sudo=sudo\n",
            "+ python=python3\n",
            "+ hash pyenv\n",
            "+ at_user_site=\n",
            "++ check_python_site_location_is_writable\n",
            "++ python3 -\n",
            "+ [[ 1 == \\0 ]]\n",
            "+ hash automake\n",
            "+ hash mecab\n",
            "+ echo 'mecab-ko is already installed'\n",
            "mecab-ko is already installed\n",
            "+ [[ -d /usr/local/lib/mecab/dic/mecab-ko-dic ]]\n",
            "+ echo 'mecab-ko-dic is already installed'\n",
            "mecab-ko-dic is already installed\n",
            "++ python3 -c 'import pkgutil; print(1 if pkgutil.find_loader(\"MeCab\") else 0)'\n",
            "+ [[ 1 == \\1 ]]\n",
            "+ echo 'mecab-python is already installed'\n",
            "mecab-python is already installed\n",
            "+ echo Done.\n",
            "Done.\n",
            "Looking in indexes: https://pypi.org/simple, https://us-python.pkg.dev/colab-wheels/public/simple/\n",
            "Requirement already satisfied: transformers in /usr/local/lib/python3.7/dist-packages (4.20.1)\n",
            "Requirement already satisfied: datasets in /usr/local/lib/python3.7/dist-packages (2.4.0)\n",
            "Requirement already satisfied: wandb in /usr/local/lib/python3.7/dist-packages (0.12.21)\n",
            "Requirement already satisfied: regex!=2019.12.17 in /usr/local/lib/python3.7/dist-packages (from transformers) (2022.6.2)\n",
            "Requirement already satisfied: tqdm>=4.27 in /usr/local/lib/python3.7/dist-packages (from transformers) (4.64.0)\n",
            "Requirement already satisfied: filelock in /usr/local/lib/python3.7/dist-packages (from transformers) (3.7.1)\n",
            "Requirement already satisfied: importlib-metadata in /usr/local/lib/python3.7/dist-packages (from transformers) (4.12.0)\n",
            "Requirement already satisfied: huggingface-hub<1.0,>=0.1.0 in /usr/local/lib/python3.7/dist-packages (from transformers) (0.8.1)\n",
            "Requirement already satisfied: packaging>=20.0 in /usr/local/lib/python3.7/dist-packages (from transformers) (21.3)\n",
            "Requirement already satisfied: requests in /usr/local/lib/python3.7/dist-packages (from transformers) (2.23.0)\n",
            "Requirement already satisfied: pyyaml>=5.1 in /usr/local/lib/python3.7/dist-packages (from transformers) (6.0)\n",
            "Requirement already satisfied: tokenizers!=0.11.3,<0.13,>=0.11.1 in /usr/local/lib/python3.7/dist-packages (from transformers) (0.12.1)\n",
            "Requirement already satisfied: numpy>=1.17 in /usr/local/lib/python3.7/dist-packages (from transformers) (1.21.6)\n",
            "Requirement already satisfied: typing-extensions>=3.7.4.3 in /usr/local/lib/python3.7/dist-packages (from huggingface-hub<1.0,>=0.1.0->transformers) (4.1.1)\n",
            "Requirement already satisfied: pyparsing!=3.0.5,>=2.0.2 in /usr/local/lib/python3.7/dist-packages (from packaging>=20.0->transformers) (3.0.9)\n",
            "Requirement already satisfied: pyarrow>=6.0.0 in /usr/local/lib/python3.7/dist-packages (from datasets) (6.0.1)\n",
            "Requirement already satisfied: aiohttp in /usr/local/lib/python3.7/dist-packages (from datasets) (3.8.1)\n",
            "Requirement already satisfied: responses<0.19 in /usr/local/lib/python3.7/dist-packages (from datasets) (0.18.0)\n",
            "Requirement already satisfied: multiprocess in /usr/local/lib/python3.7/dist-packages (from datasets) (0.70.13)\n",
            "Requirement already satisfied: dill<0.3.6 in /usr/local/lib/python3.7/dist-packages (from datasets) (0.3.5.1)\n",
            "Requirement already satisfied: fsspec[http]>=2021.11.1 in /usr/local/lib/python3.7/dist-packages (from datasets) (2022.5.0)\n",
            "Requirement already satisfied: pandas in /usr/local/lib/python3.7/dist-packages (from datasets) (1.3.5)\n",
            "Requirement already satisfied: xxhash in /usr/local/lib/python3.7/dist-packages (from datasets) (3.0.0)\n",
            "Requirement already satisfied: idna<3,>=2.5 in /usr/local/lib/python3.7/dist-packages (from requests->transformers) (2.10)\n",
            "Requirement already satisfied: chardet<4,>=3.0.2 in /usr/local/lib/python3.7/dist-packages (from requests->transformers) (3.0.4)\n",
            "Requirement already satisfied: urllib3!=1.25.0,!=1.25.1,<1.26,>=1.21.1 in /usr/local/lib/python3.7/dist-packages (from requests->transformers) (1.25.11)\n",
            "Requirement already satisfied: certifi>=2017.4.17 in /usr/local/lib/python3.7/dist-packages (from requests->transformers) (2022.6.15)\n",
            "Requirement already satisfied: shortuuid>=0.5.0 in /usr/local/lib/python3.7/dist-packages (from wandb) (1.0.9)\n",
            "Requirement already satisfied: six>=1.13.0 in /usr/local/lib/python3.7/dist-packages (from wandb) (1.15.0)\n",
            "Requirement already satisfied: GitPython>=1.0.0 in /usr/local/lib/python3.7/dist-packages (from wandb) (3.1.27)\n",
            "Requirement already satisfied: promise<3,>=2.0 in /usr/local/lib/python3.7/dist-packages (from wandb) (2.3)\n",
            "Requirement already satisfied: setproctitle in /usr/local/lib/python3.7/dist-packages (from wandb) (1.2.3)\n",
            "Requirement already satisfied: protobuf<4.0dev,>=3.12.0 in /usr/local/lib/python3.7/dist-packages (from wandb) (3.17.3)\n",
            "Requirement already satisfied: sentry-sdk>=1.0.0 in /usr/local/lib/python3.7/dist-packages (from wandb) (1.8.0)\n",
            "Requirement already satisfied: pathtools in /usr/local/lib/python3.7/dist-packages (from wandb) (0.1.2)\n",
            "Requirement already satisfied: Click!=8.0.0,>=7.0 in /usr/local/lib/python3.7/dist-packages (from wandb) (7.1.2)\n",
            "Requirement already satisfied: docker-pycreds>=0.4.0 in /usr/local/lib/python3.7/dist-packages (from wandb) (0.4.0)\n",
            "Requirement already satisfied: psutil>=5.0.0 in /usr/local/lib/python3.7/dist-packages (from wandb) (5.4.8)\n",
            "Requirement already satisfied: setuptools in /usr/local/lib/python3.7/dist-packages (from wandb) (57.4.0)\n",
            "Requirement already satisfied: gitdb<5,>=4.0.1 in /usr/local/lib/python3.7/dist-packages (from GitPython>=1.0.0->wandb) (4.0.9)\n",
            "Requirement already satisfied: smmap<6,>=3.0.1 in /usr/local/lib/python3.7/dist-packages (from gitdb<5,>=4.0.1->GitPython>=1.0.0->wandb) (5.0.0)\n",
            "Requirement already satisfied: charset-normalizer<3.0,>=2.0 in /usr/local/lib/python3.7/dist-packages (from aiohttp->datasets) (2.1.0)\n",
            "Requirement already satisfied: aiosignal>=1.1.2 in /usr/local/lib/python3.7/dist-packages (from aiohttp->datasets) (1.2.0)\n",
            "Requirement already satisfied: async-timeout<5.0,>=4.0.0a3 in /usr/local/lib/python3.7/dist-packages (from aiohttp->datasets) (4.0.2)\n",
            "Requirement already satisfied: asynctest==0.13.0 in /usr/local/lib/python3.7/dist-packages (from aiohttp->datasets) (0.13.0)\n",
            "Requirement already satisfied: attrs>=17.3.0 in /usr/local/lib/python3.7/dist-packages (from aiohttp->datasets) (21.4.0)\n",
            "Requirement already satisfied: yarl<2.0,>=1.0 in /usr/local/lib/python3.7/dist-packages (from aiohttp->datasets) (1.7.2)\n",
            "Requirement already satisfied: frozenlist>=1.1.1 in /usr/local/lib/python3.7/dist-packages (from aiohttp->datasets) (1.3.0)\n",
            "Requirement already satisfied: multidict<7.0,>=4.5 in /usr/local/lib/python3.7/dist-packages (from aiohttp->datasets) (6.0.2)\n",
            "Requirement already satisfied: zipp>=0.5 in /usr/local/lib/python3.7/dist-packages (from importlib-metadata->transformers) (3.8.1)\n",
            "Requirement already satisfied: python-dateutil>=2.7.3 in /usr/local/lib/python3.7/dist-packages (from pandas->datasets) (2.8.2)\n",
            "Requirement already satisfied: pytz>=2017.3 in /usr/local/lib/python3.7/dist-packages (from pandas->datasets) (2022.1)\n"
          ]
        }
      ],
      "source": [
        "# 필요한 라이브러리를 설치합니다.\n",
        "# KoNLPy의 Mecab 형태소 분석기는 외부로부터 추가 설치가 필요하기 때문에 pip에서 배포하는 패키지 설치 시간보다 조금 더 오래 걸립니다.\n",
        "\n",
        "!set -x \\\n",
        "&& pip install konlpy \\\n",
        "&& curl -s https://raw.githubusercontent.com/konlpy/konlpy/master/scripts/mecab.sh | bash -x\n",
        "\n",
        "!pip install transformers datasets wandb"
      ]
    },
    {
      "cell_type": "code",
      "execution_count": null,
      "metadata": {
        "colab": {
          "base_uri": "https://localhost:8080/"
        },
        "id": "BNhw3-jJYtYx",
        "outputId": "a05b3a88-e278-45e3-8a8a-fc6c0714ddf9"
      },
      "outputs": [
        {
          "output_type": "stream",
          "name": "stdout",
          "text": [
            "Drive already mounted at /content/drive; to attempt to forcibly remount, call drive.mount(\"/content/drive\", force_remount=True).\n"
          ]
        }
      ],
      "source": [
        "import os\n",
        "from google.colab import drive\n",
        "\n",
        "drive.mount(\"/content/drive\")\n",
        "os.chdir(\"/content/drive/MyDrive/WandB_Sweep_test\")\n",
        "\n",
        "os.environ[\"CUBLAS_WORKSPACE_CONFIG\"] = \":4096:8\"\n",
        "\n",
        "fine_tuned_model_name = \"Context_Sampling_Jungmin_v1.4\""
      ]
    },
    {
      "cell_type": "code",
      "execution_count": null,
      "metadata": {
        "colab": {
          "base_uri": "https://localhost:8080/"
        },
        "id": "vUn0feip5pGy",
        "outputId": "ac9df0fb-adc6-4bd2-bbac-ccb3e597c9f8"
      },
      "outputs": [
        {
          "output_type": "stream",
          "name": "stdout",
          "text": [
            "\u001b[34m\u001b[1mwandb\u001b[0m: Currently logged in as: \u001b[33mjmp0813\u001b[0m (\u001b[33m2nd_group\u001b[0m). Use \u001b[1m`wandb login --relogin`\u001b[0m to force relogin\n"
          ]
        }
      ],
      "source": [
        "!wandb login\n",
        "\n",
        "import wandb"
      ]
    },
    {
      "cell_type": "code",
      "execution_count": null,
      "metadata": {
        "colab": {
          "base_uri": "https://localhost:8080/"
        },
        "id": "yKNqtQPVYeZv",
        "outputId": "d70994d8-b61b-4e4b-ac25-43c9c52f9753"
      },
      "outputs": [
        {
          "output_type": "stream",
          "name": "stdout",
          "text": [
            "cuda:0\n"
          ]
        }
      ],
      "source": [
        "import pandas as pd\n",
        "import json\n",
        "import torch\n",
        "import datasets\n",
        "import numpy as np\n",
        "import random\n",
        "import nltk\n",
        "import re\n",
        "import torch.nn.functional as F\n",
        "import utils\n",
        "\n",
        "from glob import glob\n",
        "from konlpy.tag import Mecab\n",
        "from sklearn.model_selection import train_test_split\n",
        "from transformers import AutoTokenizer, DataCollatorWithPadding, get_cosine_schedule_with_warmup\n",
        "from transformers import AutoModelForQuestionAnswering\n",
        "from collections import defaultdict, deque\n",
        "from tqdm import tqdm\n",
        "from sklearn.feature_extraction.text import TfidfVectorizer\n",
        "from sklearn.metrics.pairwise import cosine_similarity\n",
        "\n",
        "SEED = 20220803\n",
        "\n",
        "torch.backends.cudnn.deterministic = True\n",
        "torch.backends.cudnn.benchmark = False\n",
        "torch.manual_seed(SEED)\n",
        "torch.cuda.manual_seed(SEED)\n",
        "torch.cuda.manual_seed_all(SEED)\n",
        "np.random.seed(SEED)\n",
        "random.seed(SEED)\n",
        "\n",
        "DEVICE = torch.device(\"cuda:0\" if torch.cuda.is_available() else \"cpu\")\n",
        "if \"cuda\" in DEVICE.type :\n",
        "    torch.cuda.set_device(DEVICE)\n",
        "print(DEVICE)\n",
        "\n",
        "tagger = Mecab()"
      ]
    },
    {
      "cell_type": "code",
      "source": [
        "# Sweep을 돌리기 위해 저희가 가지고 있었던 모든 내용들을 전부 메소드로 만듭니다.\n",
        "# 훈련 루프를 포함해 데이터를 가져오는 것 부터 전부 메소드로 만들었습니다."
      ],
      "metadata": {
        "id": "lxw71Md8Q96q"
      },
      "execution_count": null,
      "outputs": []
    },
    {
      "cell_type": "code",
      "source": [
        "# 탐색할 하이퍼 파라미터 또는 인자들에 대한 정의입니다.\n",
        "# sweep은 아래 인자들을 돌아다니며 여러 모델을 학습시킵니다.\n",
        "\n",
        "sweep_config = {\n",
        "    \"name\" : \"bert_sweep\", # sweep에 출력될 이름입니다.\n",
        "        'metric' : {\n",
        "        'name': 'loss',\n",
        "        'goal': 'minimize'   \n",
        "        },\n",
        "    \"method\" : \"random\",    # 탐색 방법입니다. grid나 bayes 등의 옵션도 존재합니다.\n",
        "    \"parameters\" : {\n",
        "        'optimizer': {\n",
        "            'values': ['AdamW', 'RMSprop']  # 사용할 옵티마이저의 종류입니다. 다른 옵티마이저도 사용 가능한지 임의로 RMSProp을 넣어뒀습니다. 다른 옵티마이저를 추가하실 분은 아래 sweep_optimizer 함수에 추가하시고 사용하시면 됩니다. \n",
        "        },\n",
        "        \"backbone\" : {\n",
        "            \"values\" : [\"kykim/bert-kor-base\", \"kykim/electra-kor-base\"] # 사용할 사전학습 모델 이름들입니다.\n",
        "        },\n",
        "        \"epochs\" : {\n",
        "        \"values\" : [3, 5]               # 에포크 크기입니다.\n",
        "        },\n",
        "        \"use_lr_scheduler\" : {\n",
        "            \"values\" : [True, False]        # 학습률 스케줄링을 할지 말지 결정합니다.\n",
        "        },\n",
        "        \"start_logits_loss_weight\" : {      # 토큰의 종료 인덱스를 잘 맞추지 못해서 가중 손실함수를 쓰자는 아이디어가 있었습니다. 가중치 탐색을 위한 인자입니다.\n",
        "            \"min\" : 0.1,\n",
        "            \"max\" : 0.5\n",
        "        },\n",
        "        \"lr_scheduler_warmup_ratio\" : {     # 만일 학습률 스케줄링을 사용한다면 전체 training step 중 몇 번에 걸쳐 최고 learning rate에 도달할지 결정하는 인자입니다.\n",
        "            \"min\" : 0.02,\n",
        "            \"max\" : 0.4\n",
        "        },\n",
        "        \"learning_rate\" : {\n",
        "            \"min\": 1e-6,\n",
        "            \"max\": 1e-4\n",
        "        },\n",
        "        \"batch_size\" : {    # 배치 크기입니다. 16이 넘어가면 OOM이 뜨니 참고해주세요!\n",
        "            'values' : [8, 16]\n",
        "        }\n",
        "    }\n",
        "}\n"
      ],
      "metadata": {
        "id": "3mluc2bzTMXq"
      },
      "execution_count": null,
      "outputs": []
    },
    {
      "cell_type": "code",
      "source": [
        "def run_sweep(config = None):\n",
        "    \"\"\"\n",
        "    sweep_config로부터 얻은 parameter를 이용해 학습하는 함수입니다.\n",
        "    사실상 저희가 그동안 사용했던 데이터 불러오기~학습까지 모든 과정이 담긴 함수입니다.    \n",
        "    사전학습 모델마다 tokenizer가 다르기 때문에 sweep이 바뀔때마다 데이터 또한 새로 샘플링해줘야 합니다. (padding value를 추출해야 하기 때문에 collator가 tokenizer를 인자로 받습니다.)\n",
        "    따라서 sweep을 한 번 돌 때 마다 baseline.ipynb 파일을 새로 실행한다고 보시면 됩니다.\n",
        "    \"\"\"\n",
        "\n",
        "    with wandb.init(config=config) :\n",
        "        w_config = wandb.config\n",
        "\n",
        "        # 지금 sweep에서 사용할 사전학습 모델과 tokenizer를 불러옵니다.\n",
        "        backbone = w_config.backbone\n",
        "        tokenizer = AutoTokenizer.from_pretrained(backbone, do_lower_case = False)\n",
        "        collator = DataCollatorWithPadding(tokenizer, return_tensors = \"pt\")\n",
        "        model = create_model(backbone).to(DEVICE)\n",
        "\n",
        "\n",
        "        # 지금 sweep에서 사용할 데이터를 불러옵니다.\n",
        "        original_train = utils.load_data(\"./RawData/train.json\")\n",
        "        original_train, rows_to_drop = utils.sampling_context_with_cosine_similarity(original_train, tokenizer, tagger)\n",
        "        original_train.loc[rows_to_drop, \"answer_start\"] = 0\n",
        "        original_train.loc[rows_to_drop, \"answer_end\"] = 0\n",
        "        original_train, original_valid = train_test_split(original_train, test_size = 0.3, random_state = SEED)\n",
        "        train_data, valid_data = sweep_dataset(original_train, original_valid, tokenizer, collator, w_config.batch_size)\n",
        "\n",
        "        # 지금 sweep에서 사용할 optimizer와 learning rate scheduler를 불러옵니다.\n",
        "        # 위 config를 수정하지 않으셨다면 경우에 따라 learning rate scheduler를 사용하지 않을 수 있습니다. 따라서 사용하지 않을 경우 None이 저장됩니다.\n",
        "        optimizer = sweep_optimizer(model, w_config.optimizer, w_config.learning_rate)\n",
        "        lr_scheduler = sweep_lr_scheduler(optimizer, len(train_data) * w_config.epochs, w_config.lr_scheduler_warmup_ratio) if w_config.use_lr_scheduler else None\n",
        "\n",
        "        # epoch만큼 훈련 루프와 검증 루프를 돌립니다.\n",
        "        for epoch in range(w_config.epochs):\n",
        "            train_loss, train_dist, train_start_acc, train_end_acc = train_epoch(train_data, model, epoch, optimizer, DEVICE, w_config.start_logits_loss_weight, tokenizer, tagger, lr_scheduler)\n",
        "            valid_loss, valid_dist, valid_start_acc, valid_end_acc = valid_epoch(valid_data, model, epoch, DEVICE, w_config.start_logits_loss_weight, tokenizer)\n",
        "            wandb.log({\"distance\": valid_dist,\n",
        "                       \"loss\" : valid_loss})"
      ],
      "metadata": {
        "id": "g40xITItSyHK"
      },
      "execution_count": null,
      "outputs": []
    },
    {
      "cell_type": "code",
      "execution_count": 1,
      "metadata": {
        "id": "O386BuQ5ZDAa"
      },
      "outputs": [],
      "source": [
        "def sweep_dataset(train, valid, tokenizer, collator, batch_size) :\n",
        "    \"\"\"\n",
        "    현재 sweep에서 사용할 훈련 / 검증 데이터를 추출합니다.\n",
        "\n",
        "    Argument\n",
        "    train : json으로부터 parsing이 완료된 pandas Dataframe 중 훈련용으로 구분된 데이터를 받습니다.\n",
        "    valid : json으로부터 parsing이 완료된 pandas Dataframe 중 검증용으로 구분된 데이터를 받습니다.\n",
        "    tokenizer : 현재 sweep에서 사용하는 사전학습 모델의 tokenizer를 받습니다.\n",
        "    batch_size : config에 의해 결정된 현재 sweep의 batch_size를 받습니다.\n",
        "    \"\"\"\n",
        "    return utils.get_dataset(train, tokenizer, collator, batch_size, True), utils.get_dataset(valid, tokenizer, collator, batch_size * 2, True)\n",
        "\n",
        "def sweep_optimizer(input_model, optimizer, learning_rate) :\n",
        "    \"\"\"\n",
        "    현재 sweep에서 사용할 optimizer를 반환합니다.\n",
        "\n",
        "    Argument\n",
        "    input_model : 사전학습 모델을 입력받습니다. optimizer와 weight를 연결하기 위해 입력받습니다.\n",
        "    optimiezr : config에 의해 결정된 optimizer의 이름을 문자열로 입력받습니다.\n",
        "    learning_rate : config에 의해 결정된 learning_rate를 입력받습니다.\n",
        "    \"\"\"\n",
        "    if optimizer == \"AdamW\" :\n",
        "        optimizer = torch.optim.AdamW(input_model.parameters(), lr = learning_rate, eps = 1e-6, weight_decay = 0.02)\n",
        "    elif optimizer == 'RMSprop' :\n",
        "        optimizer = torch.optim.RMSprop(input_model.parameters(), lr = learning_rate, weight_decay = 0.02)    \n",
        "    return optimizer\n",
        "\n",
        "def sweep_lr_scheduler(optimizer, train_step, warmup_ratio) :\n",
        "    \"\"\"\n",
        "    만일 현재 sweep에서 learning rate scheduler를 사용할 경우 이를 정의하고 반환합니다.\n",
        "\n",
        "    Argument\n",
        "    optimizer : 위 sweep_optimizer로부터 얻은 optimizer를 입력받습니다.\n",
        "    train_step : 전체 훈련 스텝을 입력받습니다. 원본 데이터 크기 / batch_size * epochs가 전체 훈련 스텝 크기입니다.\n",
        "    warmup_ratio : 전체 훈련 스텝 중 어느 시점까지 learning rate를 증가시킬 것인지 결정합니다.\n",
        "    \"\"\"\n",
        "    lr_scheduler = get_cosine_schedule_with_warmup(optimizer = optimizer,\n",
        "                                                    num_warmup_steps = int(train_step * warmup_ratio),\n",
        "                                                    num_training_steps = train_step)\n",
        "    return lr_scheduler\n",
        "\n",
        "\n",
        "def create_model(backbone) :\n",
        "    model = AutoModelForQuestionAnswering.from_pretrained(backbone)\n",
        "    model.train()\n",
        "    return model"
      ]
    },
    {
      "cell_type": "code",
      "source": [
        "def train_epoch(train_data, model, epoch, optimizer, device, start_weight, tokenizer, tagger, lr_scheduler = None) :\n",
        "    \"\"\"\n",
        "    1번의 training epoch를 정의한 함수입니다.\n",
        "    해당 함수는 sweep에 의해 결정된 epoch 횟수만큼 호출됩니다.\n",
        "    훈련 루프를 함수로 만들었기 때문에 훈련 진행 간 바뀔 수 있는 객체를 인자로 넣어 사용합니다.\n",
        "    \"\"\"\n",
        "\n",
        "    scaler = torch.cuda.amp.GradScaler()\n",
        "\n",
        "    cum_loss = deque(maxlen = 20)\n",
        "    cum_dist = deque(maxlen = 20)\n",
        "    cum_start_acc = deque(maxlen = 20)\n",
        "    cum_end_acc = deque(maxlen = 20)\n",
        "\n",
        "    curr_loss = []\n",
        "    curr_dist = []\n",
        "    curr_start_acc = []\n",
        "    curr_end_acc = []\n",
        "\n",
        "    model.train()\n",
        "\n",
        "    with tqdm(train_data, unit = \" batch\") as tepoch :\n",
        "        curr_loss.clear()\n",
        "        model.train()\n",
        "        for i, batch in enumerate(tepoch) :\n",
        "            optimizer.zero_grad()\n",
        "\n",
        "            tepoch.set_description(f\"Train Epoch {epoch}\")\n",
        "            batch = {k : v.to(device) for k, v in batch.items()}\n",
        "            \n",
        "            with torch.cuda.amp.autocast() :\n",
        "                outputs = model(**batch)\n",
        "                start_logits = outputs[\"start_logits\"]\n",
        "                end_logits = outputs[\"end_logits\"]\n",
        "                loss = utils.weighted_loss_fn(start_logits, end_logits, batch[\"start_positions\"], batch[\"end_positions\"], start_weight, 1 - start_weight)\n",
        "            \n",
        "            scaler.scale(loss).backward()\n",
        "            scaler.step(optimizer)\n",
        "            scaler.update()\n",
        "            if lr_scheduler :\n",
        "                lr_scheduler.step()\n",
        "\n",
        "            cum_loss.append(float(loss))\n",
        "            curr_loss.append(float(loss))\n",
        "\n",
        "            start_acc, end_acc = utils.extract_accuracy(start_logits, end_logits, batch[\"start_positions\"], batch[\"end_positions\"])\n",
        "            cum_start_acc.append(float(start_acc))\n",
        "            cum_end_acc.append(float(end_acc))\n",
        "            curr_start_acc.append(float(start_acc))\n",
        "            curr_end_acc.append(float(end_acc))\n",
        "\n",
        "            dist = utils.levenshtein_distance(start_logits, end_logits, batch[\"start_positions\"], batch[\"end_positions\"], batch[\"input_ids\"], tokenizer, tagger)\n",
        "            cum_dist.append(float(dist))\n",
        "            curr_dist.append(float(dist))\n",
        "\n",
        "            tepoch.set_postfix(loss = sum(cum_loss) / len(cum_loss),\n",
        "                               dist = sum(cum_dist) / len(cum_dist),\n",
        "                               start_acc = sum(cum_start_acc) / len(cum_start_acc),\n",
        "                               end_acc = sum(cum_end_acc) / len(cum_end_acc))\n",
        "            \n",
        "            wandb.log({\"train_loss\" : sum(cum_loss) / len(cum_loss),\n",
        "                       \"train_dist\" : sum(cum_dist) / len(cum_dist),\n",
        "                       \"train_start_acc\" : sum(cum_start_acc) / len(cum_start_acc),\n",
        "                       \"train_end_acc\" : sum(cum_end_acc) / len(cum_end_acc),\n",
        "                       \"lr\" : optimizer.state_dict()[\"param_groups\"][0]['lr'],\n",
        "                       \"train_step\" : i + (len(train_data) * epoch)})\n",
        "            \n",
        "        print(\"Train loss : \", sum(curr_loss) / len(curr_loss))\n",
        "        print(\"Train dist : \", sum(curr_dist) / len(curr_dist))\n",
        "        print(\"Train start acc :\", sum(curr_start_acc) / len(curr_start_acc))\n",
        "        print(\"Train end acc :\", sum(curr_end_acc) / len(curr_end_acc))\n",
        "            \n",
        "    return sum(curr_loss) / len(curr_loss), sum(curr_dist) / len(curr_dist), sum(curr_start_acc) / len(curr_start_acc), sum(curr_end_acc) / len(curr_end_acc)\n",
        "\n",
        "def valid_epoch(valid_data, model, epoch, device, start_weight, tokenizer) :\n",
        "    \"\"\"\n",
        "    1번의 validation epoch를 정의한 함수입니다.\n",
        "    해당 함수는 sweep에 의해 결정된 epoch 횟수만큼 호출됩니다.\n",
        "    검증 루프를 함수로 만들었기 때문에 검증 진행 간 바뀔 수 있는 객체를 인자로 넣어 사용합니다.\n",
        "    \"\"\"\n",
        "\n",
        "    cum_loss = deque(maxlen = 20)\n",
        "    cum_dist = deque(maxlen = 20)\n",
        "    cum_start_acc = deque(maxlen = 20)\n",
        "    cum_end_acc = deque(maxlen = 20)\n",
        "\n",
        "    curr_loss = []\n",
        "    curr_dist = []\n",
        "    curr_start_acc = []\n",
        "    curr_end_acc = []\n",
        "\n",
        "    model.eval()\n",
        "    with torch.no_grad() :\n",
        "        with tqdm(valid_data, unit = \" batch\") as tepoch :\n",
        "            model.eval()\n",
        "            with torch.no_grad() :\n",
        "                for i, batch in enumerate(tepoch) :\n",
        "                    tepoch.set_description(f\"Valid Epoch {epoch}\")\n",
        "                    batch = {k : v.to(device) for k, v in batch.items()}\n",
        "                    \n",
        "                    with torch.cuda.amp.autocast() :\n",
        "                        outputs = model(**batch)\n",
        "                        start_logits = outputs[\"start_logits\"]\n",
        "                        end_logits = outputs[\"end_logits\"]\n",
        "                        loss = utils.weighted_loss_fn(start_logits, end_logits, batch[\"start_positions\"], batch[\"end_positions\"], start_weight, 1 - start_weight)\n",
        "\n",
        "\n",
        "                    cum_loss.append(float(loss))\n",
        "                    curr_loss.append(float(loss))\n",
        "\n",
        "                    start_acc, end_acc = utils.extract_accuracy(start_logits, end_logits, batch[\"start_positions\"], batch[\"end_positions\"])\n",
        "                    cum_start_acc.append(float(start_acc))\n",
        "                    cum_end_acc.append(float(end_acc))\n",
        "                    curr_start_acc.append(float(start_acc))\n",
        "                    curr_end_acc.append(float(end_acc))\n",
        "\n",
        "                    dist = utils.levenshtein_distance(start_logits, end_logits, batch[\"start_positions\"], batch[\"end_positions\"], batch[\"input_ids\"], tokenizer, tagger)\n",
        "                    cum_dist.append(float(dist))\n",
        "                    curr_dist.append(float(dist))\n",
        "\n",
        "                    tepoch.set_postfix(loss = sum(cum_loss) / len(cum_loss),\n",
        "                                    dist = sum(cum_dist) / len(cum_dist),\n",
        "                                start_acc = sum(cum_start_acc) / len(cum_start_acc),\n",
        "                                end_acc = sum(cum_end_acc) / len(cum_end_acc))\n",
        "                    \n",
        "                    wandb.log({\"valid_loss\" : sum(cum_loss) / len(cum_loss),\n",
        "                               \"valid_dist\" : sum(cum_dist) / len(cum_dist),\n",
        "                               \"valid_start_acc\" : sum(cum_start_acc) / len(cum_start_acc),\n",
        "                               \"valid_end_acc\" : sum(cum_end_acc) / len(cum_end_acc),\n",
        "                               \"valid_step\" : i + (len(valid_data) * epoch)})\n",
        "                    \n",
        "        print(\"Valid loss : \", sum(curr_loss) / len(curr_loss))\n",
        "        print(\"Valid dist : \", sum(curr_dist) / len(curr_dist))\n",
        "        print(\"Valid start acc :\", sum(curr_start_acc) / len(curr_start_acc))\n",
        "        print(\"Valid end acc :\", sum(curr_end_acc) / len(curr_end_acc))\n",
        "                \n",
        "    return sum(curr_loss) / len(curr_loss), sum(curr_dist) / len(curr_dist), sum(curr_start_acc) / len(curr_start_acc), sum(curr_end_acc) / len(curr_end_acc)"
      ],
      "metadata": {
        "id": "HyL9v2ibfi8l"
      },
      "execution_count": null,
      "outputs": []
    },
    {
      "cell_type": "code",
      "source": [
        "sweep_id = wandb.sweep(sweep_config, project = \"Goorm_2nd_project\", entity = \"2nd_group\")"
      ],
      "metadata": {
        "colab": {
          "base_uri": "https://localhost:8080/"
        },
        "id": "J0afGok7fm8i",
        "outputId": "59525784-9840-4818-f228-1dbc94bd5f74"
      },
      "execution_count": null,
      "outputs": [
        {
          "output_type": "stream",
          "name": "stdout",
          "text": [
            "Create sweep with ID: sjwplq4l\n",
            "Sweep URL: https://wandb.ai/2nd_group/Goorm_2nd_project/sweeps/sjwplq4l\n"
          ]
        }
      ]
    },
    {
      "cell_type": "code",
      "source": [
        "wandb.agent(sweep_id, run_sweep, count = 10) # count는 sweep을 실행할 횟수입니다. baseline.ipynb 파일 전체를 실행하는데 약 1시간이 걸렸을 때 count가 10이라면 이 sweep은 10시간동안 돌아갑니다. 참고하셔서 실행해주세요!"
      ],
      "metadata": {
        "colab": {
          "base_uri": "https://localhost:8080/",
          "height": 1000,
          "referenced_widgets": [
            "2bb2fcd8c41b47708cefff437059b5ab",
            "b77b9ac3baf048d7934656d937ce05b8",
            "bee70382576c4859b8f8c57f5b225106",
            "d7569a55ede645118247e7abd8a26997",
            "4f6facdf1e4b4a3fbd70c0d9d60c867a",
            "0580b51a56e2491795dc5990e29fc56b",
            "6534cecc974c49318d48d3108c3d1431",
            "dc3e5fab1994455d87dc13dde414bcb3",
            "3fba44f9886e4ca4bfa099a127e6516a",
            "e8a6c25b7d584458ac81a02c61341897",
            "b094c5dd88cb4233bc6e5007a2c04a0f",
            "b49c6e90bb47477eb7823080aa77024b",
            "1deee88d03634d798ed06a55c94a0f87",
            "f1ef70dc5f1c4c34b232836601f8ad42",
            "88f430bff37d40ceb78f8761a3175eb0",
            "e8223d38471f4e2db44245bcae90f8b4",
            "dd30c96f24ee4b76ac8d434f63b7fcd1",
            "261444e96c8f4e3099b1f66c3cbf96c1",
            "ab0f1629b20646a1bcbe32f37c749006",
            "78686c20236c48ae8e0f1a11fb687228",
            "93fd269ce82a4748bcb5123eaf587870",
            "362c18cd80eb4847aad6db04b3a13ade",
            "7d5bfda94ac74259ab7d3c0963fbfd12",
            "c05045933f604d2f821bf1307b4fcecd",
            "e74b1510abb54300abf4a53e41bd000d",
            "f0a79a182bad43cfa66e4bfae6472e3a",
            "d8e281dfb34e4734bb6a42eaa3d94861",
            "04f491fcfbe44c06b57d6f8b3cd6e603",
            "e560062045894ef890ff8d83e4381d2c",
            "3e866ba237b84e7682192fe7b91da8b1",
            "1d3c174c7ed44c6b8f8944b55adec431",
            "7c2344b3e3e940e08c7a87fb9e6f1f25",
            "b6be106445094180abb653f00350d7b2",
            "2191fd2f01a44f388a594f296b6ac083",
            "2a7cb7019a444a8094053f79032e287b",
            "67aa96e9863b4ce18c8c2dd02e22254a",
            "ef936a62a0074d9bbdfa3ef0376f2f8c",
            "c4d882b436704be7b021ac8ceba44333",
            "fb56de9d40264637a243a4c917457be8",
            "a79fbdf2dbbe4bbdb09bfc2f67d6af61",
            "bbadc98447c941159c656bf7e0adfad5",
            "19f2dc56ae9c490e8c560e2741bf932d",
            "2494e25ca8c3477f957bc7abc3900e1f",
            "9ed6254e2eb64f329e4fc5c0435bc482",
            "f299a61d27bd4e9790b2abb120ea77e0",
            "d62af47d072e435192d1107ed315f36c",
            "f4f552bc95c6453c8ff4962549fdad34",
            "efe2ba9a3b1f4f859c12f8d796bcdb64",
            "b30959adb7e94c9281a75d924859f0b9",
            "0f4d70e135ad4907bf0422f1de91ed43",
            "c042ca563a024344abaa975505458204",
            "65ad7fc9c42547db8353a5e244158dfa",
            "babae6ccff644940ae5b4c1bf176e92d",
            "ac8eb707e6224665be9d9e6f317834b3",
            "209bd215a71c4bf581a5e1e8f0273831",
            "e724c98c247d4f439af682636aef3ace",
            "68dd3c4c20b04c4fa9fd9a1f2efbc3ba",
            "77d55b34c49040bca0251b05ff58446a",
            "1943e1a60e8340a19991701da75faf84",
            "a730f8eca6674563a27715b607af07e3",
            "8eab4bb12c2c46aeaaecd931534aad4c",
            "9d85aacb2f714469a582f64a6fac8647",
            "6bed2872120e4f339673ba75bc26d71c",
            "94e3562d33fc45e18908d406695950ae",
            "371e72aa26544d98882096c6ec3a9998",
            "be2a039c98814dbfa0f987dedc8dce8d",
            "7b7de6a5287347baa558021fe4311b9d",
            "e7ce19debe424cc1b5ecaabdf51c9c84",
            "5e05736c4d4c4ed693a5349b1b42796d",
            "e85cc9c62b5743758bb2d3f54a053ed5",
            "5cc19e7ea157457394d372627db8d5ae",
            "2a33cc3c5d65408381b501f6a759535a",
            "ce54de2e86694c758d054dab21f2708b",
            "658e52915a164dc3a179716c2d103335",
            "2eec890a712f466a8f29ec53f25638ee"
          ]
        },
        "id": "kkCEe-L9fpLR",
        "outputId": "27ceb963-dd4d-46c3-b3e1-f79380cd2bfa"
      },
      "execution_count": null,
      "outputs": [
        {
          "metadata": {
            "tags": null
          },
          "name": "stderr",
          "output_type": "stream",
          "text": [
            "\u001b[34m\u001b[1mwandb\u001b[0m: Agent Starting Run: ch4gha3i with config:\n",
            "\u001b[34m\u001b[1mwandb\u001b[0m: \tbackbone: kykim/electra-kor-base\n",
            "\u001b[34m\u001b[1mwandb\u001b[0m: \tbatch_size: 8\n",
            "\u001b[34m\u001b[1mwandb\u001b[0m: \tepochs: 5\n",
            "\u001b[34m\u001b[1mwandb\u001b[0m: \tlearning_rate: 9.207582227919752e-05\n",
            "\u001b[34m\u001b[1mwandb\u001b[0m: \tlr_scheduler_warmup_ratio: 0.047735790354572816\n",
            "\u001b[34m\u001b[1mwandb\u001b[0m: \toptimizer: AdamW\n",
            "\u001b[34m\u001b[1mwandb\u001b[0m: \tstart_logits_loss_weight: 0.49984319581306424\n",
            "\u001b[34m\u001b[1mwandb\u001b[0m: \tuse_lr_scheduler: True\n",
            "\u001b[34m\u001b[1mwandb\u001b[0m: Currently logged in as: \u001b[33mjmp0813\u001b[0m (\u001b[33m2nd_group\u001b[0m). Use \u001b[1m`wandb login --relogin`\u001b[0m to force relogin\n"
          ]
        },
        {
          "data": {
            "text/html": [
              "Tracking run with wandb version 0.12.21"
            ],
            "text/plain": [
              "<IPython.core.display.HTML object>"
            ]
          },
          "metadata": {},
          "output_type": "display_data"
        },
        {
          "data": {
            "text/html": [
              "Run data is saved locally in <code>/content/drive/MyDrive/WandB_Sweep_test/wandb/run-20220726_041323-ch4gha3i</code>"
            ],
            "text/plain": [
              "<IPython.core.display.HTML object>"
            ]
          },
          "metadata": {},
          "output_type": "display_data"
        },
        {
          "data": {
            "text/html": [
              "Syncing run <strong><a href=\"https://wandb.ai/2nd_group/Goorm_2nd_project/runs/ch4gha3i\" target=\"_blank\">earthy-sweep-1</a></strong> to <a href=\"https://wandb.ai/2nd_group/Goorm_2nd_project\" target=\"_blank\">Weights & Biases</a> (<a href=\"https://wandb.me/run\" target=\"_blank\">docs</a>)<br/>Sweep page:  <a href=\"https://wandb.ai/2nd_group/Goorm_2nd_project/sweeps/sjwplq4l\" target=\"_blank\">https://wandb.ai/2nd_group/Goorm_2nd_project/sweeps/sjwplq4l</a>"
            ],
            "text/plain": [
              "<IPython.core.display.HTML object>"
            ]
          },
          "metadata": {},
          "output_type": "display_data"
        },
        {
          "metadata": {
            "tags": null
          },
          "name": "stderr",
          "output_type": "stream",
          "text": [
            "100%|██████████| 9789/9789 [00:01<00:00, 5193.54it/s]\n",
            "Token indices sequence length is longer than the specified maximum sequence length for this model (741 > 512). Running this sequence through the model will result in indexing errors\n"
          ]
        },
        {
          "metadata": {
            "tags": null
          },
          "name": "stdout",
          "output_type": "stream",
          "text": [
            "코드 오류로 추정되는 문제로 인해 사용하지 못하는 문장의 비율 : 0.000551808706315144\n",
            "유사도 기반으로 추출한 문장에 정답 단어가 없는 문장의 비율 : 0.019558553034947884\n",
            "위 두 문제를 합한 전체 오류 : 0.02011036174126303\n",
            "실제로 유사도 기반 추출을 한 문장들 중 오류가 있는 문장의 비율: 0.07677902621722846\n",
            "전체 문장들 중 사용할 수 있는 문장의 비율 : 0.9799509503372165\n"
          ]
        },
        {
          "data": {
            "application/vnd.jupyter.widget-view+json": {
              "model_id": "2bb2fcd8c41b47708cefff437059b5ab",
              "version_major": 2,
              "version_minor": 0
            },
            "text/plain": [
              "  0%|          | 0/12 [00:00<?, ?ba/s]"
            ]
          },
          "metadata": {},
          "output_type": "display_data"
        },
        {
          "data": {
            "application/vnd.jupyter.widget-view+json": {
              "model_id": "b49c6e90bb47477eb7823080aa77024b",
              "version_major": 2,
              "version_minor": 0
            },
            "text/plain": [
              "  0%|          | 0/5 [00:00<?, ?ba/s]"
            ]
          },
          "metadata": {},
          "output_type": "display_data"
        },
        {
          "metadata": {
            "tags": null
          },
          "name": "stderr",
          "output_type": "stream",
          "text": [
            "Some weights of the model checkpoint at kykim/electra-kor-base were not used when initializing ElectraForQuestionAnswering: ['discriminator_predictions.dense.bias', 'discriminator_predictions.dense_prediction.weight', 'discriminator_predictions.dense_prediction.bias', 'discriminator_predictions.dense.weight']\n",
            "- This IS expected if you are initializing ElectraForQuestionAnswering from the checkpoint of a model trained on another task or with another architecture (e.g. initializing a BertForSequenceClassification model from a BertForPreTraining model).\n",
            "- This IS NOT expected if you are initializing ElectraForQuestionAnswering from the checkpoint of a model that you expect to be exactly identical (initializing a BertForSequenceClassification model from a BertForSequenceClassification model).\n",
            "Some weights of ElectraForQuestionAnswering were not initialized from the model checkpoint at kykim/electra-kor-base and are newly initialized: ['qa_outputs.weight', 'qa_outputs.bias']\n",
            "You should probably TRAIN this model on a down-stream task to be able to use it for predictions and inference.\n",
            "Train Epoch 0:   0%|          | 0/1428 [00:00<?, ? batch/s]/usr/local/lib/python3.7/dist-packages/torch/optim/lr_scheduler.py:136: UserWarning: Detected call of `lr_scheduler.step()` before `optimizer.step()`. In PyTorch 1.1.0 and later, you should call them in the opposite order: `optimizer.step()` before `lr_scheduler.step()`.  Failure to do this will result in PyTorch skipping the first value of the learning rate schedule. See more details at https://pytorch.org/docs/stable/optim.html#how-to-adjust-learning-rate\n",
            "  \"https://pytorch.org/docs/stable/optim.html#how-to-adjust-learning-rate\", UserWarning)\n",
            "Train Epoch 0: 100%|██████████| 1428/1428 [09:34<00:00,  2.49 batch/s, dist=9.67, end_acc=0.731, loss=0.763, start_acc=0.881]\n"
          ]
        },
        {
          "metadata": {
            "tags": null
          },
          "name": "stdout",
          "output_type": "stream",
          "text": [
            "Train loss :  1.2436754176659244\n",
            "Train dist :  25.16456582633053\n",
            "Train start acc : 0.8345588235294118\n",
            "Train end acc : 0.6115196078431373\n"
          ]
        },
        {
          "metadata": {
            "tags": null
          },
          "name": "stderr",
          "output_type": "stream",
          "text": [
            "Valid Epoch 0: 100%|██████████| 306/306 [01:13<00:00,  4.19 batch/s, dist=5.89, end_acc=0.718, loss=0.61, start_acc=0.914]\n"
          ]
        },
        {
          "metadata": {
            "tags": null
          },
          "name": "stdout",
          "output_type": "stream",
          "text": [
            "Valid loss :  0.5539312957743414\n",
            "Valid dist :  6.339429361488185\n",
            "Valid start acc : 0.9175936400500777\n",
            "Valid end acc : 0.7386877828953313\n"
          ]
        },
        {
          "metadata": {
            "tags": null
          },
          "name": "stderr",
          "output_type": "stream",
          "text": [
            "Train Epoch 1: 100%|██████████| 1428/1428 [09:35<00:00,  2.48 batch/s, dist=5.76, end_acc=0.831, loss=0.304, start_acc=0.956]\n"
          ]
        },
        {
          "metadata": {
            "tags": null
          },
          "name": "stdout",
          "output_type": "stream",
          "text": [
            "Train loss :  0.43315644282978083\n",
            "Train dist :  4.972689075630252\n",
            "Train start acc : 0.9341736694677871\n",
            "Train end acc : 0.7747724089635855\n"
          ]
        },
        {
          "metadata": {
            "tags": null
          },
          "name": "stderr",
          "output_type": "stream",
          "text": [
            "Valid Epoch 1: 100%|██████████| 306/306 [01:14<00:00,  4.11 batch/s, dist=5.87, end_acc=0.766, loss=0.474, start_acc=0.956]\n"
          ]
        },
        {
          "metadata": {
            "tags": null
          },
          "name": "stdout",
          "output_type": "stream",
          "text": [
            "Valid loss :  0.48350653381032105\n",
            "Valid dist :  3.4001225490196076\n",
            "Valid start acc : 0.9368872549019608\n",
            "Valid end acc : 0.7432598039215687\n"
          ]
        },
        {
          "metadata": {
            "tags": null
          },
          "name": "stderr",
          "output_type": "stream",
          "text": [
            "Train Epoch 2: 100%|██████████| 1428/1428 [09:33<00:00,  2.49 batch/s, dist=0.562, end_acc=0.806, loss=0.24, start_acc=0.969]\n"
          ]
        },
        {
          "metadata": {
            "tags": null
          },
          "name": "stdout",
          "output_type": "stream",
          "text": [
            "Train loss :  0.2372851969895321\n",
            "Train dist :  4.683298319327731\n",
            "Train start acc : 0.9648109243697479\n",
            "Train end acc : 0.8328081232492998\n"
          ]
        },
        {
          "metadata": {
            "tags": null
          },
          "name": "stderr",
          "output_type": "stream",
          "text": [
            "Valid Epoch 2: 100%|██████████| 306/306 [01:13<00:00,  4.19 batch/s, dist=5.19, end_acc=0.695, loss=0.443, start_acc=0.953]\n"
          ]
        },
        {
          "metadata": {
            "tags": null
          },
          "name": "stdout",
          "output_type": "stream",
          "text": [
            "Valid loss :  0.48964326753238446\n",
            "Valid dist :  3.064621040723982\n",
            "Valid start acc : 0.9385212418300654\n",
            "Valid end acc : 0.7368338361285092\n"
          ]
        },
        {
          "metadata": {
            "tags": null
          },
          "name": "stderr",
          "output_type": "stream",
          "text": [
            "Train Epoch 3: 100%|██████████| 1428/1428 [09:25<00:00,  2.53 batch/s, dist=8.5, end_acc=0.775, loss=0.266, start_acc=0.95]\n"
          ]
        },
        {
          "metadata": {
            "tags": null
          },
          "name": "stdout",
          "output_type": "stream",
          "text": [
            "Train loss :  0.16947018584749773\n",
            "Train dist :  5.422356442577031\n",
            "Train start acc : 0.9772408963585434\n",
            "Train end acc : 0.8578431372549019\n"
          ]
        },
        {
          "metadata": {
            "tags": null
          },
          "name": "stderr",
          "output_type": "stream",
          "text": [
            "Valid Epoch 3: 100%|██████████| 306/306 [01:14<00:00,  4.13 batch/s, dist=1.78, end_acc=0.72, loss=0.556, start_acc=0.947]\n"
          ]
        },
        {
          "metadata": {
            "tags": null
          },
          "name": "stdout",
          "output_type": "stream",
          "text": [
            "Valid loss :  0.5734261274763864\n",
            "Valid dist :  3.0191207893413776\n",
            "Valid start acc : 0.9479166666666666\n",
            "Valid end acc : 0.7272341629258947\n"
          ]
        },
        {
          "metadata": {
            "tags": null
          },
          "name": "stderr",
          "output_type": "stream",
          "text": [
            "Train Epoch 4: 100%|██████████| 1428/1428 [09:28<00:00,  2.51 batch/s, dist=0.431, end_acc=0.881, loss=0.149, start_acc=0.994]\n"
          ]
        },
        {
          "metadata": {
            "tags": null
          },
          "name": "stdout",
          "output_type": "stream",
          "text": [
            "Train loss :  0.13223100013972072\n",
            "Train dist :  4.981442577030812\n",
            "Train start acc : 0.9805672268907563\n",
            "Train end acc : 0.8759628851540616\n"
          ]
        },
        {
          "metadata": {
            "tags": null
          },
          "name": "stderr",
          "output_type": "stream",
          "text": [
            "Valid Epoch 4: 100%|██████████| 306/306 [01:13<00:00,  4.15 batch/s, dist=1.7, end_acc=0.731, loss=0.605, start_acc=0.944]\n"
          ]
        },
        {
          "metadata": {
            "tags": null
          },
          "name": "stdout",
          "output_type": "stream",
          "text": [
            "Valid loss :  0.6187265165137992\n",
            "Valid dist :  3.4073497988939168\n",
            "Valid start acc : 0.9475081699346405\n",
            "Valid end acc : 0.7283653846753189\n"
          ]
        },
        {
          "data": {
            "text/html": [
              "Waiting for W&B process to finish... <strong style=\"color:green\">(success).</strong>"
            ],
            "text/plain": [
              "<IPython.core.display.HTML object>"
            ]
          },
          "metadata": {},
          "output_type": "display_data"
        },
        {
          "data": {
            "application/vnd.jupyter.widget-view+json": {
              "model_id": "7d5bfda94ac74259ab7d3c0963fbfd12",
              "version_major": 2,
              "version_minor": 0
            },
            "text/plain": [
              "VBox(children=(Label(value='0.001 MB of 0.001 MB uploaded (0.000 MB deduped)\\r'), FloatProgress(value=1.0, max…"
            ]
          },
          "metadata": {},
          "output_type": "display_data"
        },
        {
          "data": {
            "text/html": [
              "<style>\n",
              "    table.wandb td:nth-child(1) { padding: 0 10px; text-align: left ; width: auto;} td:nth-child(2) {text-align: left ; width: 100%}\n",
              "    .wandb-row { display: flex; flex-direction: row; flex-wrap: wrap; justify-content: flex-start; width: 100% }\n",
              "    .wandb-col { display: flex; flex-direction: column; flex-basis: 100%; flex: 1; padding: 10px; }\n",
              "    </style>\n",
              "<div class=\"wandb-row\"><div class=\"wandb-col\"><h3>Run history:</h3><br/><table class=\"wandb\"><tr><td>distance</td><td>█▂▁▁▂</td></tr><tr><td>loss</td><td>▅▁▁▆█</td></tr><tr><td>lr</td><td>▂▅███████▇▇▇▇▇▆▆▆▆▅▅▅▄▄▄▄▃▃▃▃▂▂▂▂▁▁▁▁▁▁▁</td></tr><tr><td>train_dist</td><td>█▃▂▁▁▁▁▁▁▁▁▁▁▁▁▁▁▁▁▁▁▁▁▁▁▂▁▁▁▁▁▁▁▁▁▁▁▁▁▁</td></tr><tr><td>train_end_acc</td><td>▁▅▆▆▆▆▇▇▇▇▇▇▇▇▇▇█▇▇▇▇▇███▇██▇▇█▇████████</td></tr><tr><td>train_loss</td><td>█▃▂▂▂▂▂▂▁▁▁▁▁▁▁▁▁▁▁▁▁▁▁▁▁▁▁▁▁▁▁▁▁▁▁▁▁▁▁▁</td></tr><tr><td>train_start_acc</td><td>▁▅▆▆▅▅▆▇▇▇▇▆▇▇▇▇█▇▇▇▇████████▇██████████</td></tr><tr><td>train_step</td><td>▁▁▁▂▂▂▂▂▂▃▃▃▃▃▃▄▄▄▄▄▅▅▅▅▅▅▆▆▆▆▆▇▇▇▇▇▇███</td></tr><tr><td>valid_dist</td><td>▃▅▅▄▅▁▄▃▂▂▂▂▃▂▃▂█▃▁▂▁▂▂▂▁▁▁▄▄▁▁▃▅▁▁▃▂▃▄▂</td></tr><tr><td>valid_end_acc</td><td>▄▅▅▇▄▆▅▅▄▅▆▄▅▆▂▅█▂▅▆█▆▅▅▅▆▃▁▄▇▇█▅▇▅▄▅▅▃▃</td></tr><tr><td>valid_loss</td><td>▂▇▅▄▄▅▄▄▄▃▃▂▅▄▄▂▂▂▃▃▃▁▃▅▅▁▄█▅▅▃▄▆▄▅▅▆▇▆▇</td></tr><tr><td>valid_start_acc</td><td>▃▁▂▃▃▁▁▂▄▅▂▄▁▄▄▆▄▃▄▇▅▅▆▄▄██▄▅▄▇▅▅█▇▆▅▄▅▅</td></tr><tr><td>valid_step</td><td>▁▁▁▂▂▂▂▂▂▃▃▃▃▃▃▄▄▄▄▄▅▅▅▅▅▅▆▆▆▆▆▇▇▇▇▇▇███</td></tr></table><br/></div><div class=\"wandb-col\"><h3>Run summary:</h3><br/><table class=\"wandb\"><tr><td>distance</td><td>3.40735</td></tr><tr><td>loss</td><td>0.61873</td></tr><tr><td>lr</td><td>0.0</td></tr><tr><td>train_dist</td><td>0.43125</td></tr><tr><td>train_end_acc</td><td>0.88125</td></tr><tr><td>train_loss</td><td>0.14937</td></tr><tr><td>train_start_acc</td><td>0.99375</td></tr><tr><td>train_step</td><td>7139</td></tr><tr><td>valid_dist</td><td>1.7012</td></tr><tr><td>valid_end_acc</td><td>0.73149</td></tr><tr><td>valid_loss</td><td>0.60533</td></tr><tr><td>valid_start_acc</td><td>0.94375</td></tr><tr><td>valid_step</td><td>1529</td></tr></table><br/></div></div>"
            ],
            "text/plain": [
              "<IPython.core.display.HTML object>"
            ]
          },
          "metadata": {},
          "output_type": "display_data"
        },
        {
          "data": {
            "text/html": [
              "Synced <strong style=\"color:#cdcd00\">earthy-sweep-1</strong>: <a href=\"https://wandb.ai/2nd_group/Goorm_2nd_project/runs/ch4gha3i\" target=\"_blank\">https://wandb.ai/2nd_group/Goorm_2nd_project/runs/ch4gha3i</a><br/>Synced 5 W&B file(s), 0 media file(s), 0 artifact file(s) and 0 other file(s)"
            ],
            "text/plain": [
              "<IPython.core.display.HTML object>"
            ]
          },
          "metadata": {},
          "output_type": "display_data"
        },
        {
          "data": {
            "text/html": [
              "Find logs at: <code>./wandb/run-20220726_041323-ch4gha3i/logs</code>"
            ],
            "text/plain": [
              "<IPython.core.display.HTML object>"
            ]
          },
          "metadata": {},
          "output_type": "display_data"
        },
        {
          "metadata": {
            "tags": null
          },
          "name": "stderr",
          "output_type": "stream",
          "text": [
            "\u001b[34m\u001b[1mwandb\u001b[0m: Sweep Agent: Waiting for job.\n",
            "\u001b[34m\u001b[1mwandb\u001b[0m: Job received.\n",
            "\u001b[34m\u001b[1mwandb\u001b[0m: Agent Starting Run: hl08gifg with config:\n",
            "\u001b[34m\u001b[1mwandb\u001b[0m: \tbackbone: kykim/bert-kor-base\n",
            "\u001b[34m\u001b[1mwandb\u001b[0m: \tbatch_size: 8\n",
            "\u001b[34m\u001b[1mwandb\u001b[0m: \tepochs: 5\n",
            "\u001b[34m\u001b[1mwandb\u001b[0m: \tlearning_rate: 9.06432805925748e-05\n",
            "\u001b[34m\u001b[1mwandb\u001b[0m: \tlr_scheduler_warmup_ratio: 0.3919973157454657\n",
            "\u001b[34m\u001b[1mwandb\u001b[0m: \toptimizer: AdamW\n",
            "\u001b[34m\u001b[1mwandb\u001b[0m: \tstart_logits_loss_weight: 0.30105374499967086\n",
            "\u001b[34m\u001b[1mwandb\u001b[0m: \tuse_lr_scheduler: False\n"
          ]
        },
        {
          "data": {
            "text/html": [
              "Tracking run with wandb version 0.12.21"
            ],
            "text/plain": [
              "<IPython.core.display.HTML object>"
            ]
          },
          "metadata": {},
          "output_type": "display_data"
        },
        {
          "data": {
            "text/html": [
              "Run data is saved locally in <code>/content/drive/MyDrive/WandB_Sweep_test/wandb/run-20220726_051154-hl08gifg</code>"
            ],
            "text/plain": [
              "<IPython.core.display.HTML object>"
            ]
          },
          "metadata": {},
          "output_type": "display_data"
        },
        {
          "data": {
            "text/html": [
              "Syncing run <strong><a href=\"https://wandb.ai/2nd_group/Goorm_2nd_project/runs/hl08gifg\" target=\"_blank\">denim-sweep-2</a></strong> to <a href=\"https://wandb.ai/2nd_group/Goorm_2nd_project\" target=\"_blank\">Weights & Biases</a> (<a href=\"https://wandb.me/run\" target=\"_blank\">docs</a>)<br/>Sweep page:  <a href=\"https://wandb.ai/2nd_group/Goorm_2nd_project/sweeps/sjwplq4l\" target=\"_blank\">https://wandb.ai/2nd_group/Goorm_2nd_project/sweeps/sjwplq4l</a>"
            ],
            "text/plain": [
              "<IPython.core.display.HTML object>"
            ]
          },
          "metadata": {},
          "output_type": "display_data"
        },
        {
          "metadata": {
            "tags": null
          },
          "name": "stderr",
          "output_type": "stream",
          "text": [
            "100%|██████████| 9789/9789 [00:01<00:00, 5218.76it/s]\n",
            "Token indices sequence length is longer than the specified maximum sequence length for this model (741 > 512). Running this sequence through the model will result in indexing errors\n"
          ]
        },
        {
          "metadata": {
            "tags": null
          },
          "name": "stdout",
          "output_type": "stream",
          "text": [
            "코드 오류로 추정되는 문제로 인해 사용하지 못하는 문장의 비율 : 0.000551808706315144\n",
            "유사도 기반으로 추출한 문장에 정답 단어가 없는 문장의 비율 : 0.019558553034947884\n",
            "위 두 문제를 합한 전체 오류 : 0.02011036174126303\n",
            "실제로 유사도 기반 추출을 한 문장들 중 오류가 있는 문장의 비율: 0.07677902621722846\n",
            "전체 문장들 중 사용할 수 있는 문장의 비율 : 0.9799509503372165\n"
          ]
        },
        {
          "data": {
            "application/vnd.jupyter.widget-view+json": {
              "model_id": "1d3c174c7ed44c6b8f8944b55adec431",
              "version_major": 2,
              "version_minor": 0
            },
            "text/plain": [
              "  0%|          | 0/12 [00:00<?, ?ba/s]"
            ]
          },
          "metadata": {},
          "output_type": "display_data"
        },
        {
          "data": {
            "application/vnd.jupyter.widget-view+json": {
              "model_id": "19f2dc56ae9c490e8c560e2741bf932d",
              "version_major": 2,
              "version_minor": 0
            },
            "text/plain": [
              "  0%|          | 0/5 [00:00<?, ?ba/s]"
            ]
          },
          "metadata": {},
          "output_type": "display_data"
        },
        {
          "metadata": {
            "tags": null
          },
          "name": "stderr",
          "output_type": "stream",
          "text": [
            "Some weights of the model checkpoint at kykim/bert-kor-base were not used when initializing BertForQuestionAnswering: ['cls.predictions.bias', 'cls.seq_relationship.bias', 'cls.predictions.decoder.weight', 'cls.predictions.decoder.bias', 'cls.seq_relationship.weight', 'cls.predictions.transform.dense.weight', 'cls.predictions.transform.LayerNorm.bias', 'cls.predictions.transform.LayerNorm.weight', 'cls.predictions.transform.dense.bias']\n",
            "- This IS expected if you are initializing BertForQuestionAnswering from the checkpoint of a model trained on another task or with another architecture (e.g. initializing a BertForSequenceClassification model from a BertForPreTraining model).\n",
            "- This IS NOT expected if you are initializing BertForQuestionAnswering from the checkpoint of a model that you expect to be exactly identical (initializing a BertForSequenceClassification model from a BertForSequenceClassification model).\n",
            "Some weights of BertForQuestionAnswering were not initialized from the model checkpoint at kykim/bert-kor-base and are newly initialized: ['qa_outputs.weight', 'qa_outputs.bias']\n",
            "You should probably TRAIN this model on a down-stream task to be able to use it for predictions and inference.\n",
            "Train Epoch 0: 100%|██████████| 1428/1428 [10:20<00:00,  2.30 batch/s, dist=4.23, end_acc=0.725, loss=0.824, start_acc=0.875]\n"
          ]
        },
        {
          "metadata": {
            "tags": null
          },
          "name": "stdout",
          "output_type": "stream",
          "text": [
            "Train loss :  0.9834941404673377\n",
            "Train dist :  12.919292717086835\n",
            "Train start acc : 0.8477766106442577\n",
            "Train end acc : 0.6551995798319328\n"
          ]
        },
        {
          "metadata": {
            "tags": null
          },
          "name": "stderr",
          "output_type": "stream",
          "text": [
            "Valid Epoch 0: 100%|██████████| 306/306 [01:32<00:00,  3.32 batch/s, dist=6.79, end_acc=0.738, loss=0.612, start_acc=0.916]\n"
          ]
        },
        {
          "metadata": {
            "tags": null
          },
          "name": "stdout",
          "output_type": "stream",
          "text": [
            "Valid loss :  0.6902968212475185\n",
            "Valid dist :  5.289184263448969\n",
            "Valid start acc : 0.9027777777777778\n",
            "Valid end acc : 0.7184043489640055\n"
          ]
        },
        {
          "metadata": {
            "tags": null
          },
          "name": "stderr",
          "output_type": "stream",
          "text": [
            "Train Epoch 1: 100%|██████████| 1428/1428 [10:17<00:00,  2.31 batch/s, dist=9.91, end_acc=0.731, loss=0.661, start_acc=0.925]\n"
          ]
        },
        {
          "metadata": {
            "tags": null
          },
          "name": "stdout",
          "output_type": "stream",
          "text": [
            "Train loss :  0.5384672802901652\n",
            "Train dist :  6.278974089635854\n",
            "Train start acc : 0.9175420168067226\n",
            "Train end acc : 0.7685574229691877\n"
          ]
        },
        {
          "metadata": {
            "tags": null
          },
          "name": "stderr",
          "output_type": "stream",
          "text": [
            "Valid Epoch 1: 100%|██████████| 306/306 [01:31<00:00,  3.36 batch/s, dist=5.77, end_acc=0.713, loss=0.636, start_acc=0.906]\n"
          ]
        },
        {
          "metadata": {
            "tags": null
          },
          "name": "stdout",
          "output_type": "stream",
          "text": [
            "Valid loss :  0.7168048971813489\n",
            "Valid dist :  4.8547951231774755\n",
            "Valid start acc : 0.9021650326797386\n",
            "Valid end acc : 0.6893539467668222\n"
          ]
        },
        {
          "metadata": {
            "tags": null
          },
          "name": "stderr",
          "output_type": "stream",
          "text": [
            "Train Epoch 2: 100%|██████████| 1428/1428 [10:16<00:00,  2.32 batch/s, dist=3.56, end_acc=0.762, loss=0.53, start_acc=0.894]\n"
          ]
        },
        {
          "metadata": {
            "tags": null
          },
          "name": "stdout",
          "output_type": "stream",
          "text": [
            "Train loss :  0.43048756721061693\n",
            "Train dist :  3.7401960784313726\n",
            "Train start acc : 0.9396008403361344\n",
            "Train end acc : 0.8062850140056023\n"
          ]
        },
        {
          "metadata": {
            "tags": null
          },
          "name": "stderr",
          "output_type": "stream",
          "text": [
            "Valid Epoch 2: 100%|██████████| 306/306 [01:30<00:00,  3.37 batch/s, dist=3.44, end_acc=0.706, loss=0.841, start_acc=0.887]\n"
          ]
        },
        {
          "metadata": {
            "tags": null
          },
          "name": "stdout",
          "output_type": "stream",
          "text": [
            "Valid loss :  0.8049811200281374\n",
            "Valid dist :  5.161639014580191\n",
            "Valid start acc : 0.8935394672786489\n",
            "Valid end acc : 0.7054895676818549\n"
          ]
        },
        {
          "output_type": "stream",
          "name": "stderr",
          "text": [
            "Train Epoch 3: 100%|██████████| 1428/1428 [10:12<00:00,  2.33 batch/s, dist=9.53, end_acc=0.738, loss=0.584, start_acc=0.919]\n"
          ]
        },
        {
          "output_type": "stream",
          "name": "stdout",
          "text": [
            "Train loss :  0.43346549494254616\n",
            "Train dist :  4.577118347338936\n",
            "Train start acc : 0.9417892156862745\n",
            "Train end acc : 0.8053221288515406\n"
          ]
        },
        {
          "output_type": "stream",
          "name": "stderr",
          "text": [
            "Valid Epoch 3: 100%|██████████| 306/306 [01:34<00:00,  3.24 batch/s, dist=4.75, end_acc=0.689, loss=0.864, start_acc=0.895]\n"
          ]
        },
        {
          "output_type": "stream",
          "name": "stdout",
          "text": [
            "Valid loss :  0.9628865306868273\n",
            "Valid dist :  4.456605077928607\n",
            "Valid start acc : 0.8813945450424369\n",
            "Valid end acc : 0.6825194822417365\n"
          ]
        },
        {
          "output_type": "stream",
          "name": "stderr",
          "text": [
            "Train Epoch 4: 100%|██████████| 1428/1428 [10:22<00:00,  2.29 batch/s, dist=0.562, end_acc=0.806, loss=0.334, start_acc=0.975]\n"
          ]
        },
        {
          "output_type": "stream",
          "name": "stdout",
          "text": [
            "Train loss :  0.35774802260152366\n",
            "Train dist :  2.7727591036414565\n",
            "Train start acc : 0.9515931372549019\n",
            "Train end acc : 0.8326330532212886\n"
          ]
        },
        {
          "output_type": "stream",
          "name": "stderr",
          "text": [
            "Valid Epoch 4: 100%|██████████| 306/306 [01:31<00:00,  3.34 batch/s, dist=5.82, end_acc=0.666, loss=0.904, start_acc=0.885]\n"
          ]
        },
        {
          "output_type": "stream",
          "name": "stdout",
          "text": [
            "Valid loss :  0.8118037547843129\n",
            "Valid dist :  3.8066867772750124\n",
            "Valid start acc : 0.9036576169378617\n",
            "Valid end acc : 0.6973196330413319\n"
          ]
        },
        {
          "output_type": "display_data",
          "data": {
            "text/plain": [
              "<IPython.core.display.HTML object>"
            ],
            "text/html": [
              "Waiting for W&B process to finish... <strong style=\"color:green\">(success).</strong>"
            ]
          },
          "metadata": {}
        },
        {
          "output_type": "display_data",
          "data": {
            "text/plain": [
              "VBox(children=(Label(value='0.001 MB of 0.001 MB uploaded (0.000 MB deduped)\\r'), FloatProgress(value=1.0, max…"
            ],
            "application/vnd.jupyter.widget-view+json": {
              "version_major": 2,
              "version_minor": 0,
              "model_id": "babae6ccff644940ae5b4c1bf176e92d"
            }
          },
          "metadata": {}
        },
        {
          "output_type": "display_data",
          "data": {
            "text/plain": [
              "<IPython.core.display.HTML object>"
            ],
            "text/html": [
              "<style>\n",
              "    table.wandb td:nth-child(1) { padding: 0 10px; text-align: left ; width: auto;} td:nth-child(2) {text-align: left ; width: 100%}\n",
              "    .wandb-row { display: flex; flex-direction: row; flex-wrap: wrap; justify-content: flex-start; width: 100% }\n",
              "    .wandb-col { display: flex; flex-direction: column; flex-basis: 100%; flex: 1; padding: 10px; }\n",
              "    </style>\n",
              "<div class=\"wandb-row\"><div class=\"wandb-col\"><h3>Run history:</h3><br/><table class=\"wandb\"><tr><td>distance</td><td>█▆▇▄▁</td></tr><tr><td>loss</td><td>▁▂▄█▄</td></tr><tr><td>lr</td><td>▁▁▁▁▁▁▁▁▁▁▁▁▁▁▁▁▁▁▁▁▁▁▁▁▁▁▁▁▁▁▁▁▁▁▁▁▁▁▁▁</td></tr><tr><td>train_dist</td><td>▇█▄▇▆▂▄▂▄▁▅▃▁▂▁▂▂▂▂▂▁▁▂▂▄▂▂▁▂▂▃▁▁▂▂▂▁▁▂▂</td></tr><tr><td>train_end_acc</td><td>▁▃▄▃▃▅▅▅▆█▆▆▆▆▅▆▇▆▇██▇▇▆▇█▅▇██▆▇▇▇█▇█▇██</td></tr><tr><td>train_loss</td><td>█▄▄▄▄▃▃▃▂▁▂▂▂▂▂▂▁▂▁▁▁▂▁▂▁▁▂▂▁▁▂▂▁▂▁▁▁▁▁▁</td></tr><tr><td>train_start_acc</td><td>▁▄▄▄▅▅▅▆▆▇▇▇▆▇▆▆█▇▇██▇▇▆█▇▇▆▇█▇▇█▆█▇▇█▇▇</td></tr><tr><td>train_step</td><td>▁▁▁▂▂▂▂▂▂▃▃▃▃▃▃▄▄▄▄▄▅▅▅▅▅▅▆▆▆▆▆▇▇▇▇▇▇███</td></tr><tr><td>valid_dist</td><td>▃▁▃█▂█▃▁▁▁▂▄▆▅▅▄▆▃▃▄▁▅▂▃█▃▅▂▄▃▂▃▁▄▃▃▄▃▁▅</td></tr><tr><td>valid_end_acc</td><td>▄▆█▃▃▅▇▇▄▂▂▄▃▃▄▄▁▇▅▃▃▆▅▄▄▅▅▅▂▁▁▂▄▃▂▆▄▄▅▂</td></tr><tr><td>valid_loss</td><td>▃▂▁▄▃▂▃▂▃▄▂▁▃▃▄▁▄▃▅▃▄▄▄▄▅▆▄▅▇██▅▃▅▅▃▄▃▃▄</td></tr><tr><td>valid_start_acc</td><td>█▆▇▅▆▅▆█▆▅▆▇▅▅▃█▃▆▄▅▅▅▅▄▂▁▅▅▄▅▅▂▅▇▆▇▄▇▅▆</td></tr><tr><td>valid_step</td><td>▁▁▁▂▂▂▂▂▂▃▃▃▃▃▃▄▄▄▄▄▅▅▅▅▅▅▆▆▆▆▆▇▇▇▇▇▇███</td></tr></table><br/></div><div class=\"wandb-col\"><h3>Run summary:</h3><br/><table class=\"wandb\"><tr><td>distance</td><td>3.80669</td></tr><tr><td>loss</td><td>0.8118</td></tr><tr><td>lr</td><td>9e-05</td></tr><tr><td>train_dist</td><td>0.5625</td></tr><tr><td>train_end_acc</td><td>0.80625</td></tr><tr><td>train_loss</td><td>0.33417</td></tr><tr><td>train_start_acc</td><td>0.975</td></tr><tr><td>train_step</td><td>7139</td></tr><tr><td>valid_dist</td><td>5.81731</td></tr><tr><td>valid_end_acc</td><td>0.66587</td></tr><tr><td>valid_loss</td><td>0.90409</td></tr><tr><td>valid_start_acc</td><td>0.88534</td></tr><tr><td>valid_step</td><td>1529</td></tr></table><br/></div></div>"
            ]
          },
          "metadata": {}
        },
        {
          "output_type": "display_data",
          "data": {
            "text/plain": [
              "<IPython.core.display.HTML object>"
            ],
            "text/html": [
              "Synced <strong style=\"color:#cdcd00\">denim-sweep-2</strong>: <a href=\"https://wandb.ai/2nd_group/Goorm_2nd_project/runs/hl08gifg\" target=\"_blank\">https://wandb.ai/2nd_group/Goorm_2nd_project/runs/hl08gifg</a><br/>Synced 5 W&B file(s), 0 media file(s), 0 artifact file(s) and 0 other file(s)"
            ]
          },
          "metadata": {}
        },
        {
          "output_type": "display_data",
          "data": {
            "text/plain": [
              "<IPython.core.display.HTML object>"
            ],
            "text/html": [
              "Find logs at: <code>./wandb/run-20220726_051154-hl08gifg/logs</code>"
            ]
          },
          "metadata": {}
        },
        {
          "output_type": "stream",
          "name": "stderr",
          "text": [
            "\u001b[34m\u001b[1mwandb\u001b[0m: Agent Starting Run: 715yntrs with config:\n",
            "\u001b[34m\u001b[1mwandb\u001b[0m: \tbackbone: kykim/electra-kor-base\n",
            "\u001b[34m\u001b[1mwandb\u001b[0m: \tbatch_size: 8\n",
            "\u001b[34m\u001b[1mwandb\u001b[0m: \tepochs: 5\n",
            "\u001b[34m\u001b[1mwandb\u001b[0m: \tlearning_rate: 2.574669461253035e-05\n",
            "\u001b[34m\u001b[1mwandb\u001b[0m: \tlr_scheduler_warmup_ratio: 0.14282991168086423\n",
            "\u001b[34m\u001b[1mwandb\u001b[0m: \toptimizer: RMSprop\n",
            "\u001b[34m\u001b[1mwandb\u001b[0m: \tstart_logits_loss_weight: 0.1547643343736187\n",
            "\u001b[34m\u001b[1mwandb\u001b[0m: \tuse_lr_scheduler: True\n"
          ]
        },
        {
          "output_type": "display_data",
          "data": {
            "text/plain": [
              "<IPython.core.display.HTML object>"
            ],
            "text/html": [
              "Tracking run with wandb version 0.12.21"
            ]
          },
          "metadata": {}
        },
        {
          "output_type": "display_data",
          "data": {
            "text/plain": [
              "<IPython.core.display.HTML object>"
            ],
            "text/html": [
              "Run data is saved locally in <code>/content/drive/MyDrive/WandB_Sweep_test/wandb/run-20220726_061553-715yntrs</code>"
            ]
          },
          "metadata": {}
        },
        {
          "output_type": "display_data",
          "data": {
            "text/plain": [
              "<IPython.core.display.HTML object>"
            ],
            "text/html": [
              "Syncing run <strong><a href=\"https://wandb.ai/2nd_group/Goorm_2nd_project/runs/715yntrs\" target=\"_blank\">northern-sweep-3</a></strong> to <a href=\"https://wandb.ai/2nd_group/Goorm_2nd_project\" target=\"_blank\">Weights & Biases</a> (<a href=\"https://wandb.me/run\" target=\"_blank\">docs</a>)<br/>Sweep page:  <a href=\"https://wandb.ai/2nd_group/Goorm_2nd_project/sweeps/sjwplq4l\" target=\"_blank\">https://wandb.ai/2nd_group/Goorm_2nd_project/sweeps/sjwplq4l</a>"
            ]
          },
          "metadata": {}
        },
        {
          "output_type": "stream",
          "name": "stderr",
          "text": [
            "100%|██████████| 9789/9789 [00:01<00:00, 5160.03it/s]\n",
            "Token indices sequence length is longer than the specified maximum sequence length for this model (741 > 512). Running this sequence through the model will result in indexing errors\n"
          ]
        },
        {
          "output_type": "stream",
          "name": "stdout",
          "text": [
            "코드 오류로 추정되는 문제로 인해 사용하지 못하는 문장의 비율 : 0.000551808706315144\n",
            "유사도 기반으로 추출한 문장에 정답 단어가 없는 문장의 비율 : 0.019558553034947884\n",
            "위 두 문제를 합한 전체 오류 : 0.02011036174126303\n",
            "실제로 유사도 기반 추출을 한 문장들 중 오류가 있는 문장의 비율: 0.07677902621722846\n",
            "전체 문장들 중 사용할 수 있는 문장의 비율 : 0.9799509503372165\n"
          ]
        },
        {
          "output_type": "display_data",
          "data": {
            "text/plain": [
              "  0%|          | 0/12 [00:00<?, ?ba/s]"
            ],
            "application/vnd.jupyter.widget-view+json": {
              "version_major": 2,
              "version_minor": 0,
              "model_id": "ac8eb707e6224665be9d9e6f317834b3"
            }
          },
          "metadata": {}
        },
        {
          "output_type": "display_data",
          "data": {
            "text/plain": [
              "  0%|          | 0/5 [00:00<?, ?ba/s]"
            ],
            "application/vnd.jupyter.widget-view+json": {
              "version_major": 2,
              "version_minor": 0,
              "model_id": "371e72aa26544d98882096c6ec3a9998"
            }
          },
          "metadata": {}
        },
        {
          "output_type": "stream",
          "name": "stderr",
          "text": [
            "Some weights of the model checkpoint at kykim/electra-kor-base were not used when initializing ElectraForQuestionAnswering: ['discriminator_predictions.dense.bias', 'discriminator_predictions.dense_prediction.weight', 'discriminator_predictions.dense_prediction.bias', 'discriminator_predictions.dense.weight']\n",
            "- This IS expected if you are initializing ElectraForQuestionAnswering from the checkpoint of a model trained on another task or with another architecture (e.g. initializing a BertForSequenceClassification model from a BertForPreTraining model).\n",
            "- This IS NOT expected if you are initializing ElectraForQuestionAnswering from the checkpoint of a model that you expect to be exactly identical (initializing a BertForSequenceClassification model from a BertForSequenceClassification model).\n",
            "Some weights of ElectraForQuestionAnswering were not initialized from the model checkpoint at kykim/electra-kor-base and are newly initialized: ['qa_outputs.weight', 'qa_outputs.bias']\n",
            "You should probably TRAIN this model on a down-stream task to be able to use it for predictions and inference.\n",
            "Train Epoch 0: 100%|██████████| 1428/1428 [10:14<00:00,  2.32 batch/s, dist=14.9, end_acc=0.725, loss=1.01, start_acc=0.838]\n"
          ]
        },
        {
          "output_type": "stream",
          "name": "stdout",
          "text": [
            "Train loss :  2.8849635449752045\n",
            "Train dist :  79.8529411764706\n",
            "Train start acc : 0.6189600840336135\n",
            "Train end acc : 0.42839635854341734\n"
          ]
        },
        {
          "output_type": "stream",
          "name": "stderr",
          "text": [
            "Valid Epoch 0: 100%|██████████| 306/306 [01:33<00:00,  3.28 batch/s, dist=5.42, end_acc=0.756, loss=0.766, start_acc=0.888]\n"
          ]
        },
        {
          "output_type": "stream",
          "name": "stdout",
          "text": [
            "Valid loss :  0.8447097758062525\n",
            "Valid dist :  10.632337229763701\n",
            "Valid start acc : 0.8726118653038748\n",
            "Valid end acc : 0.7110042735642078\n"
          ]
        },
        {
          "output_type": "stream",
          "name": "stderr",
          "text": [
            "Train Epoch 1: 100%|██████████| 1428/1428 [10:07<00:00,  2.35 batch/s, dist=26.6, end_acc=0.525, loss=1.42, start_acc=0.806]\n"
          ]
        },
        {
          "output_type": "stream",
          "name": "stdout",
          "text": [
            "Train loss :  1.1654455481457109\n",
            "Train dist :  20.20045518207283\n",
            "Train start acc : 0.8015581232492998\n",
            "Train end acc : 0.6425070028011205\n"
          ]
        },
        {
          "output_type": "stream",
          "name": "stderr",
          "text": [
            "Valid Epoch 1: 100%|██████████| 306/306 [01:32<00:00,  3.29 batch/s, dist=12.6, end_acc=0.651, loss=1.28, start_acc=0.803]\n"
          ]
        },
        {
          "output_type": "stream",
          "name": "stdout",
          "text": [
            "Valid loss :  1.3042493678775489\n",
            "Valid dist :  18.247501885369534\n",
            "Valid start acc : 0.799648064413881\n",
            "Valid end acc : 0.6138448970380173\n"
          ]
        },
        {
          "output_type": "stream",
          "name": "stderr",
          "text": [
            "Train Epoch 2:  90%|████████▉ | 1281/1428 [09:03<01:12,  2.02 batch/s, dist=24.3, end_acc=0.55, loss=1.64, start_acc=0.675]"
          ]
        }
      ]
    },
    {
      "cell_type": "code",
      "source": [
        ""
      ],
      "metadata": {
        "id": "MJLwZ0p-pQU_"
      },
      "execution_count": null,
      "outputs": []
    }
  ],
  "metadata": {
    "accelerator": "GPU",
    "colab": {
      "collapsed_sections": [],
      "machine_shape": "hm",
      "name": "sweep_baseline.ipynb",
      "provenance": []
    },
    "gpuClass": "standard",
    "kernelspec": {
      "display_name": "Python 3",
      "name": "python3"
    },
    "language_info": {
      "name": "python"
    },
    "widgets": {
      "application/vnd.jupyter.widget-state+json": {
        "2bb2fcd8c41b47708cefff437059b5ab": {
          "model_module": "@jupyter-widgets/controls",
          "model_name": "HBoxModel",
          "model_module_version": "1.5.0",
          "state": {
            "_dom_classes": [],
            "_model_module": "@jupyter-widgets/controls",
            "_model_module_version": "1.5.0",
            "_model_name": "HBoxModel",
            "_view_count": null,
            "_view_module": "@jupyter-widgets/controls",
            "_view_module_version": "1.5.0",
            "_view_name": "HBoxView",
            "box_style": "",
            "children": [
              "IPY_MODEL_b77b9ac3baf048d7934656d937ce05b8",
              "IPY_MODEL_bee70382576c4859b8f8c57f5b225106",
              "IPY_MODEL_d7569a55ede645118247e7abd8a26997"
            ],
            "layout": "IPY_MODEL_4f6facdf1e4b4a3fbd70c0d9d60c867a"
          }
        },
        "b77b9ac3baf048d7934656d937ce05b8": {
          "model_module": "@jupyter-widgets/controls",
          "model_name": "HTMLModel",
          "model_module_version": "1.5.0",
          "state": {
            "_dom_classes": [],
            "_model_module": "@jupyter-widgets/controls",
            "_model_module_version": "1.5.0",
            "_model_name": "HTMLModel",
            "_view_count": null,
            "_view_module": "@jupyter-widgets/controls",
            "_view_module_version": "1.5.0",
            "_view_name": "HTMLView",
            "description": "",
            "description_tooltip": null,
            "layout": "IPY_MODEL_0580b51a56e2491795dc5990e29fc56b",
            "placeholder": "​",
            "style": "IPY_MODEL_6534cecc974c49318d48d3108c3d1431",
            "value": "100%"
          }
        },
        "bee70382576c4859b8f8c57f5b225106": {
          "model_module": "@jupyter-widgets/controls",
          "model_name": "FloatProgressModel",
          "model_module_version": "1.5.0",
          "state": {
            "_dom_classes": [],
            "_model_module": "@jupyter-widgets/controls",
            "_model_module_version": "1.5.0",
            "_model_name": "FloatProgressModel",
            "_view_count": null,
            "_view_module": "@jupyter-widgets/controls",
            "_view_module_version": "1.5.0",
            "_view_name": "ProgressView",
            "bar_style": "success",
            "description": "",
            "description_tooltip": null,
            "layout": "IPY_MODEL_dc3e5fab1994455d87dc13dde414bcb3",
            "max": 12,
            "min": 0,
            "orientation": "horizontal",
            "style": "IPY_MODEL_3fba44f9886e4ca4bfa099a127e6516a",
            "value": 12
          }
        },
        "d7569a55ede645118247e7abd8a26997": {
          "model_module": "@jupyter-widgets/controls",
          "model_name": "HTMLModel",
          "model_module_version": "1.5.0",
          "state": {
            "_dom_classes": [],
            "_model_module": "@jupyter-widgets/controls",
            "_model_module_version": "1.5.0",
            "_model_name": "HTMLModel",
            "_view_count": null,
            "_view_module": "@jupyter-widgets/controls",
            "_view_module_version": "1.5.0",
            "_view_name": "HTMLView",
            "description": "",
            "description_tooltip": null,
            "layout": "IPY_MODEL_e8a6c25b7d584458ac81a02c61341897",
            "placeholder": "​",
            "style": "IPY_MODEL_b094c5dd88cb4233bc6e5007a2c04a0f",
            "value": " 12/12 [01:52&lt;00:00,  8.29s/ba]"
          }
        },
        "4f6facdf1e4b4a3fbd70c0d9d60c867a": {
          "model_module": "@jupyter-widgets/base",
          "model_name": "LayoutModel",
          "model_module_version": "1.2.0",
          "state": {
            "_model_module": "@jupyter-widgets/base",
            "_model_module_version": "1.2.0",
            "_model_name": "LayoutModel",
            "_view_count": null,
            "_view_module": "@jupyter-widgets/base",
            "_view_module_version": "1.2.0",
            "_view_name": "LayoutView",
            "align_content": null,
            "align_items": null,
            "align_self": null,
            "border": null,
            "bottom": null,
            "display": null,
            "flex": null,
            "flex_flow": null,
            "grid_area": null,
            "grid_auto_columns": null,
            "grid_auto_flow": null,
            "grid_auto_rows": null,
            "grid_column": null,
            "grid_gap": null,
            "grid_row": null,
            "grid_template_areas": null,
            "grid_template_columns": null,
            "grid_template_rows": null,
            "height": null,
            "justify_content": null,
            "justify_items": null,
            "left": null,
            "margin": null,
            "max_height": null,
            "max_width": null,
            "min_height": null,
            "min_width": null,
            "object_fit": null,
            "object_position": null,
            "order": null,
            "overflow": null,
            "overflow_x": null,
            "overflow_y": null,
            "padding": null,
            "right": null,
            "top": null,
            "visibility": null,
            "width": null
          }
        },
        "0580b51a56e2491795dc5990e29fc56b": {
          "model_module": "@jupyter-widgets/base",
          "model_name": "LayoutModel",
          "model_module_version": "1.2.0",
          "state": {
            "_model_module": "@jupyter-widgets/base",
            "_model_module_version": "1.2.0",
            "_model_name": "LayoutModel",
            "_view_count": null,
            "_view_module": "@jupyter-widgets/base",
            "_view_module_version": "1.2.0",
            "_view_name": "LayoutView",
            "align_content": null,
            "align_items": null,
            "align_self": null,
            "border": null,
            "bottom": null,
            "display": null,
            "flex": null,
            "flex_flow": null,
            "grid_area": null,
            "grid_auto_columns": null,
            "grid_auto_flow": null,
            "grid_auto_rows": null,
            "grid_column": null,
            "grid_gap": null,
            "grid_row": null,
            "grid_template_areas": null,
            "grid_template_columns": null,
            "grid_template_rows": null,
            "height": null,
            "justify_content": null,
            "justify_items": null,
            "left": null,
            "margin": null,
            "max_height": null,
            "max_width": null,
            "min_height": null,
            "min_width": null,
            "object_fit": null,
            "object_position": null,
            "order": null,
            "overflow": null,
            "overflow_x": null,
            "overflow_y": null,
            "padding": null,
            "right": null,
            "top": null,
            "visibility": null,
            "width": null
          }
        },
        "6534cecc974c49318d48d3108c3d1431": {
          "model_module": "@jupyter-widgets/controls",
          "model_name": "DescriptionStyleModel",
          "model_module_version": "1.5.0",
          "state": {
            "_model_module": "@jupyter-widgets/controls",
            "_model_module_version": "1.5.0",
            "_model_name": "DescriptionStyleModel",
            "_view_count": null,
            "_view_module": "@jupyter-widgets/base",
            "_view_module_version": "1.2.0",
            "_view_name": "StyleView",
            "description_width": ""
          }
        },
        "dc3e5fab1994455d87dc13dde414bcb3": {
          "model_module": "@jupyter-widgets/base",
          "model_name": "LayoutModel",
          "model_module_version": "1.2.0",
          "state": {
            "_model_module": "@jupyter-widgets/base",
            "_model_module_version": "1.2.0",
            "_model_name": "LayoutModel",
            "_view_count": null,
            "_view_module": "@jupyter-widgets/base",
            "_view_module_version": "1.2.0",
            "_view_name": "LayoutView",
            "align_content": null,
            "align_items": null,
            "align_self": null,
            "border": null,
            "bottom": null,
            "display": null,
            "flex": null,
            "flex_flow": null,
            "grid_area": null,
            "grid_auto_columns": null,
            "grid_auto_flow": null,
            "grid_auto_rows": null,
            "grid_column": null,
            "grid_gap": null,
            "grid_row": null,
            "grid_template_areas": null,
            "grid_template_columns": null,
            "grid_template_rows": null,
            "height": null,
            "justify_content": null,
            "justify_items": null,
            "left": null,
            "margin": null,
            "max_height": null,
            "max_width": null,
            "min_height": null,
            "min_width": null,
            "object_fit": null,
            "object_position": null,
            "order": null,
            "overflow": null,
            "overflow_x": null,
            "overflow_y": null,
            "padding": null,
            "right": null,
            "top": null,
            "visibility": null,
            "width": null
          }
        },
        "3fba44f9886e4ca4bfa099a127e6516a": {
          "model_module": "@jupyter-widgets/controls",
          "model_name": "ProgressStyleModel",
          "model_module_version": "1.5.0",
          "state": {
            "_model_module": "@jupyter-widgets/controls",
            "_model_module_version": "1.5.0",
            "_model_name": "ProgressStyleModel",
            "_view_count": null,
            "_view_module": "@jupyter-widgets/base",
            "_view_module_version": "1.2.0",
            "_view_name": "StyleView",
            "bar_color": null,
            "description_width": ""
          }
        },
        "e8a6c25b7d584458ac81a02c61341897": {
          "model_module": "@jupyter-widgets/base",
          "model_name": "LayoutModel",
          "model_module_version": "1.2.0",
          "state": {
            "_model_module": "@jupyter-widgets/base",
            "_model_module_version": "1.2.0",
            "_model_name": "LayoutModel",
            "_view_count": null,
            "_view_module": "@jupyter-widgets/base",
            "_view_module_version": "1.2.0",
            "_view_name": "LayoutView",
            "align_content": null,
            "align_items": null,
            "align_self": null,
            "border": null,
            "bottom": null,
            "display": null,
            "flex": null,
            "flex_flow": null,
            "grid_area": null,
            "grid_auto_columns": null,
            "grid_auto_flow": null,
            "grid_auto_rows": null,
            "grid_column": null,
            "grid_gap": null,
            "grid_row": null,
            "grid_template_areas": null,
            "grid_template_columns": null,
            "grid_template_rows": null,
            "height": null,
            "justify_content": null,
            "justify_items": null,
            "left": null,
            "margin": null,
            "max_height": null,
            "max_width": null,
            "min_height": null,
            "min_width": null,
            "object_fit": null,
            "object_position": null,
            "order": null,
            "overflow": null,
            "overflow_x": null,
            "overflow_y": null,
            "padding": null,
            "right": null,
            "top": null,
            "visibility": null,
            "width": null
          }
        },
        "b094c5dd88cb4233bc6e5007a2c04a0f": {
          "model_module": "@jupyter-widgets/controls",
          "model_name": "DescriptionStyleModel",
          "model_module_version": "1.5.0",
          "state": {
            "_model_module": "@jupyter-widgets/controls",
            "_model_module_version": "1.5.0",
            "_model_name": "DescriptionStyleModel",
            "_view_count": null,
            "_view_module": "@jupyter-widgets/base",
            "_view_module_version": "1.2.0",
            "_view_name": "StyleView",
            "description_width": ""
          }
        },
        "b49c6e90bb47477eb7823080aa77024b": {
          "model_module": "@jupyter-widgets/controls",
          "model_name": "HBoxModel",
          "model_module_version": "1.5.0",
          "state": {
            "_dom_classes": [],
            "_model_module": "@jupyter-widgets/controls",
            "_model_module_version": "1.5.0",
            "_model_name": "HBoxModel",
            "_view_count": null,
            "_view_module": "@jupyter-widgets/controls",
            "_view_module_version": "1.5.0",
            "_view_name": "HBoxView",
            "box_style": "",
            "children": [
              "IPY_MODEL_1deee88d03634d798ed06a55c94a0f87",
              "IPY_MODEL_f1ef70dc5f1c4c34b232836601f8ad42",
              "IPY_MODEL_88f430bff37d40ceb78f8761a3175eb0"
            ],
            "layout": "IPY_MODEL_e8223d38471f4e2db44245bcae90f8b4"
          }
        },
        "1deee88d03634d798ed06a55c94a0f87": {
          "model_module": "@jupyter-widgets/controls",
          "model_name": "HTMLModel",
          "model_module_version": "1.5.0",
          "state": {
            "_dom_classes": [],
            "_model_module": "@jupyter-widgets/controls",
            "_model_module_version": "1.5.0",
            "_model_name": "HTMLModel",
            "_view_count": null,
            "_view_module": "@jupyter-widgets/controls",
            "_view_module_version": "1.5.0",
            "_view_name": "HTMLView",
            "description": "",
            "description_tooltip": null,
            "layout": "IPY_MODEL_dd30c96f24ee4b76ac8d434f63b7fcd1",
            "placeholder": "​",
            "style": "IPY_MODEL_261444e96c8f4e3099b1f66c3cbf96c1",
            "value": "100%"
          }
        },
        "f1ef70dc5f1c4c34b232836601f8ad42": {
          "model_module": "@jupyter-widgets/controls",
          "model_name": "FloatProgressModel",
          "model_module_version": "1.5.0",
          "state": {
            "_dom_classes": [],
            "_model_module": "@jupyter-widgets/controls",
            "_model_module_version": "1.5.0",
            "_model_name": "FloatProgressModel",
            "_view_count": null,
            "_view_module": "@jupyter-widgets/controls",
            "_view_module_version": "1.5.0",
            "_view_name": "ProgressView",
            "bar_style": "success",
            "description": "",
            "description_tooltip": null,
            "layout": "IPY_MODEL_ab0f1629b20646a1bcbe32f37c749006",
            "max": 5,
            "min": 0,
            "orientation": "horizontal",
            "style": "IPY_MODEL_78686c20236c48ae8e0f1a11fb687228",
            "value": 5
          }
        },
        "88f430bff37d40ceb78f8761a3175eb0": {
          "model_module": "@jupyter-widgets/controls",
          "model_name": "HTMLModel",
          "model_module_version": "1.5.0",
          "state": {
            "_dom_classes": [],
            "_model_module": "@jupyter-widgets/controls",
            "_model_module_version": "1.5.0",
            "_model_name": "HTMLModel",
            "_view_count": null,
            "_view_module": "@jupyter-widgets/controls",
            "_view_module_version": "1.5.0",
            "_view_name": "HTMLView",
            "description": "",
            "description_tooltip": null,
            "layout": "IPY_MODEL_93fd269ce82a4748bcb5123eaf587870",
            "placeholder": "​",
            "style": "IPY_MODEL_362c18cd80eb4847aad6db04b3a13ade",
            "value": " 5/5 [00:47&lt;00:00,  9.26s/ba]"
          }
        },
        "e8223d38471f4e2db44245bcae90f8b4": {
          "model_module": "@jupyter-widgets/base",
          "model_name": "LayoutModel",
          "model_module_version": "1.2.0",
          "state": {
            "_model_module": "@jupyter-widgets/base",
            "_model_module_version": "1.2.0",
            "_model_name": "LayoutModel",
            "_view_count": null,
            "_view_module": "@jupyter-widgets/base",
            "_view_module_version": "1.2.0",
            "_view_name": "LayoutView",
            "align_content": null,
            "align_items": null,
            "align_self": null,
            "border": null,
            "bottom": null,
            "display": null,
            "flex": null,
            "flex_flow": null,
            "grid_area": null,
            "grid_auto_columns": null,
            "grid_auto_flow": null,
            "grid_auto_rows": null,
            "grid_column": null,
            "grid_gap": null,
            "grid_row": null,
            "grid_template_areas": null,
            "grid_template_columns": null,
            "grid_template_rows": null,
            "height": null,
            "justify_content": null,
            "justify_items": null,
            "left": null,
            "margin": null,
            "max_height": null,
            "max_width": null,
            "min_height": null,
            "min_width": null,
            "object_fit": null,
            "object_position": null,
            "order": null,
            "overflow": null,
            "overflow_x": null,
            "overflow_y": null,
            "padding": null,
            "right": null,
            "top": null,
            "visibility": null,
            "width": null
          }
        },
        "dd30c96f24ee4b76ac8d434f63b7fcd1": {
          "model_module": "@jupyter-widgets/base",
          "model_name": "LayoutModel",
          "model_module_version": "1.2.0",
          "state": {
            "_model_module": "@jupyter-widgets/base",
            "_model_module_version": "1.2.0",
            "_model_name": "LayoutModel",
            "_view_count": null,
            "_view_module": "@jupyter-widgets/base",
            "_view_module_version": "1.2.0",
            "_view_name": "LayoutView",
            "align_content": null,
            "align_items": null,
            "align_self": null,
            "border": null,
            "bottom": null,
            "display": null,
            "flex": null,
            "flex_flow": null,
            "grid_area": null,
            "grid_auto_columns": null,
            "grid_auto_flow": null,
            "grid_auto_rows": null,
            "grid_column": null,
            "grid_gap": null,
            "grid_row": null,
            "grid_template_areas": null,
            "grid_template_columns": null,
            "grid_template_rows": null,
            "height": null,
            "justify_content": null,
            "justify_items": null,
            "left": null,
            "margin": null,
            "max_height": null,
            "max_width": null,
            "min_height": null,
            "min_width": null,
            "object_fit": null,
            "object_position": null,
            "order": null,
            "overflow": null,
            "overflow_x": null,
            "overflow_y": null,
            "padding": null,
            "right": null,
            "top": null,
            "visibility": null,
            "width": null
          }
        },
        "261444e96c8f4e3099b1f66c3cbf96c1": {
          "model_module": "@jupyter-widgets/controls",
          "model_name": "DescriptionStyleModel",
          "model_module_version": "1.5.0",
          "state": {
            "_model_module": "@jupyter-widgets/controls",
            "_model_module_version": "1.5.0",
            "_model_name": "DescriptionStyleModel",
            "_view_count": null,
            "_view_module": "@jupyter-widgets/base",
            "_view_module_version": "1.2.0",
            "_view_name": "StyleView",
            "description_width": ""
          }
        },
        "ab0f1629b20646a1bcbe32f37c749006": {
          "model_module": "@jupyter-widgets/base",
          "model_name": "LayoutModel",
          "model_module_version": "1.2.0",
          "state": {
            "_model_module": "@jupyter-widgets/base",
            "_model_module_version": "1.2.0",
            "_model_name": "LayoutModel",
            "_view_count": null,
            "_view_module": "@jupyter-widgets/base",
            "_view_module_version": "1.2.0",
            "_view_name": "LayoutView",
            "align_content": null,
            "align_items": null,
            "align_self": null,
            "border": null,
            "bottom": null,
            "display": null,
            "flex": null,
            "flex_flow": null,
            "grid_area": null,
            "grid_auto_columns": null,
            "grid_auto_flow": null,
            "grid_auto_rows": null,
            "grid_column": null,
            "grid_gap": null,
            "grid_row": null,
            "grid_template_areas": null,
            "grid_template_columns": null,
            "grid_template_rows": null,
            "height": null,
            "justify_content": null,
            "justify_items": null,
            "left": null,
            "margin": null,
            "max_height": null,
            "max_width": null,
            "min_height": null,
            "min_width": null,
            "object_fit": null,
            "object_position": null,
            "order": null,
            "overflow": null,
            "overflow_x": null,
            "overflow_y": null,
            "padding": null,
            "right": null,
            "top": null,
            "visibility": null,
            "width": null
          }
        },
        "78686c20236c48ae8e0f1a11fb687228": {
          "model_module": "@jupyter-widgets/controls",
          "model_name": "ProgressStyleModel",
          "model_module_version": "1.5.0",
          "state": {
            "_model_module": "@jupyter-widgets/controls",
            "_model_module_version": "1.5.0",
            "_model_name": "ProgressStyleModel",
            "_view_count": null,
            "_view_module": "@jupyter-widgets/base",
            "_view_module_version": "1.2.0",
            "_view_name": "StyleView",
            "bar_color": null,
            "description_width": ""
          }
        },
        "93fd269ce82a4748bcb5123eaf587870": {
          "model_module": "@jupyter-widgets/base",
          "model_name": "LayoutModel",
          "model_module_version": "1.2.0",
          "state": {
            "_model_module": "@jupyter-widgets/base",
            "_model_module_version": "1.2.0",
            "_model_name": "LayoutModel",
            "_view_count": null,
            "_view_module": "@jupyter-widgets/base",
            "_view_module_version": "1.2.0",
            "_view_name": "LayoutView",
            "align_content": null,
            "align_items": null,
            "align_self": null,
            "border": null,
            "bottom": null,
            "display": null,
            "flex": null,
            "flex_flow": null,
            "grid_area": null,
            "grid_auto_columns": null,
            "grid_auto_flow": null,
            "grid_auto_rows": null,
            "grid_column": null,
            "grid_gap": null,
            "grid_row": null,
            "grid_template_areas": null,
            "grid_template_columns": null,
            "grid_template_rows": null,
            "height": null,
            "justify_content": null,
            "justify_items": null,
            "left": null,
            "margin": null,
            "max_height": null,
            "max_width": null,
            "min_height": null,
            "min_width": null,
            "object_fit": null,
            "object_position": null,
            "order": null,
            "overflow": null,
            "overflow_x": null,
            "overflow_y": null,
            "padding": null,
            "right": null,
            "top": null,
            "visibility": null,
            "width": null
          }
        },
        "362c18cd80eb4847aad6db04b3a13ade": {
          "model_module": "@jupyter-widgets/controls",
          "model_name": "DescriptionStyleModel",
          "model_module_version": "1.5.0",
          "state": {
            "_model_module": "@jupyter-widgets/controls",
            "_model_module_version": "1.5.0",
            "_model_name": "DescriptionStyleModel",
            "_view_count": null,
            "_view_module": "@jupyter-widgets/base",
            "_view_module_version": "1.2.0",
            "_view_name": "StyleView",
            "description_width": ""
          }
        },
        "7d5bfda94ac74259ab7d3c0963fbfd12": {
          "model_module": "@jupyter-widgets/controls",
          "model_name": "VBoxModel",
          "model_module_version": "1.5.0",
          "state": {
            "_dom_classes": [],
            "_model_module": "@jupyter-widgets/controls",
            "_model_module_version": "1.5.0",
            "_model_name": "VBoxModel",
            "_view_count": null,
            "_view_module": "@jupyter-widgets/controls",
            "_view_module_version": "1.5.0",
            "_view_name": "VBoxView",
            "box_style": "",
            "children": [
              "IPY_MODEL_c05045933f604d2f821bf1307b4fcecd",
              "IPY_MODEL_e74b1510abb54300abf4a53e41bd000d"
            ],
            "layout": "IPY_MODEL_f0a79a182bad43cfa66e4bfae6472e3a"
          }
        },
        "c05045933f604d2f821bf1307b4fcecd": {
          "model_module": "@jupyter-widgets/controls",
          "model_name": "LabelModel",
          "model_module_version": "1.5.0",
          "state": {
            "_dom_classes": [],
            "_model_module": "@jupyter-widgets/controls",
            "_model_module_version": "1.5.0",
            "_model_name": "LabelModel",
            "_view_count": null,
            "_view_module": "@jupyter-widgets/controls",
            "_view_module_version": "1.5.0",
            "_view_name": "LabelView",
            "description": "",
            "description_tooltip": null,
            "layout": "IPY_MODEL_d8e281dfb34e4734bb6a42eaa3d94861",
            "placeholder": "​",
            "style": "IPY_MODEL_04f491fcfbe44c06b57d6f8b3cd6e603",
            "value": "0.017 MB of 0.017 MB uploaded (0.000 MB deduped)\r"
          }
        },
        "e74b1510abb54300abf4a53e41bd000d": {
          "model_module": "@jupyter-widgets/controls",
          "model_name": "FloatProgressModel",
          "model_module_version": "1.5.0",
          "state": {
            "_dom_classes": [],
            "_model_module": "@jupyter-widgets/controls",
            "_model_module_version": "1.5.0",
            "_model_name": "FloatProgressModel",
            "_view_count": null,
            "_view_module": "@jupyter-widgets/controls",
            "_view_module_version": "1.5.0",
            "_view_name": "ProgressView",
            "bar_style": "",
            "description": "",
            "description_tooltip": null,
            "layout": "IPY_MODEL_e560062045894ef890ff8d83e4381d2c",
            "max": 1,
            "min": 0,
            "orientation": "horizontal",
            "style": "IPY_MODEL_3e866ba237b84e7682192fe7b91da8b1",
            "value": 1
          }
        },
        "f0a79a182bad43cfa66e4bfae6472e3a": {
          "model_module": "@jupyter-widgets/base",
          "model_name": "LayoutModel",
          "model_module_version": "1.2.0",
          "state": {
            "_model_module": "@jupyter-widgets/base",
            "_model_module_version": "1.2.0",
            "_model_name": "LayoutModel",
            "_view_count": null,
            "_view_module": "@jupyter-widgets/base",
            "_view_module_version": "1.2.0",
            "_view_name": "LayoutView",
            "align_content": null,
            "align_items": null,
            "align_self": null,
            "border": null,
            "bottom": null,
            "display": null,
            "flex": null,
            "flex_flow": null,
            "grid_area": null,
            "grid_auto_columns": null,
            "grid_auto_flow": null,
            "grid_auto_rows": null,
            "grid_column": null,
            "grid_gap": null,
            "grid_row": null,
            "grid_template_areas": null,
            "grid_template_columns": null,
            "grid_template_rows": null,
            "height": null,
            "justify_content": null,
            "justify_items": null,
            "left": null,
            "margin": null,
            "max_height": null,
            "max_width": null,
            "min_height": null,
            "min_width": null,
            "object_fit": null,
            "object_position": null,
            "order": null,
            "overflow": null,
            "overflow_x": null,
            "overflow_y": null,
            "padding": null,
            "right": null,
            "top": null,
            "visibility": null,
            "width": null
          }
        },
        "d8e281dfb34e4734bb6a42eaa3d94861": {
          "model_module": "@jupyter-widgets/base",
          "model_name": "LayoutModel",
          "model_module_version": "1.2.0",
          "state": {
            "_model_module": "@jupyter-widgets/base",
            "_model_module_version": "1.2.0",
            "_model_name": "LayoutModel",
            "_view_count": null,
            "_view_module": "@jupyter-widgets/base",
            "_view_module_version": "1.2.0",
            "_view_name": "LayoutView",
            "align_content": null,
            "align_items": null,
            "align_self": null,
            "border": null,
            "bottom": null,
            "display": null,
            "flex": null,
            "flex_flow": null,
            "grid_area": null,
            "grid_auto_columns": null,
            "grid_auto_flow": null,
            "grid_auto_rows": null,
            "grid_column": null,
            "grid_gap": null,
            "grid_row": null,
            "grid_template_areas": null,
            "grid_template_columns": null,
            "grid_template_rows": null,
            "height": null,
            "justify_content": null,
            "justify_items": null,
            "left": null,
            "margin": null,
            "max_height": null,
            "max_width": null,
            "min_height": null,
            "min_width": null,
            "object_fit": null,
            "object_position": null,
            "order": null,
            "overflow": null,
            "overflow_x": null,
            "overflow_y": null,
            "padding": null,
            "right": null,
            "top": null,
            "visibility": null,
            "width": null
          }
        },
        "04f491fcfbe44c06b57d6f8b3cd6e603": {
          "model_module": "@jupyter-widgets/controls",
          "model_name": "DescriptionStyleModel",
          "model_module_version": "1.5.0",
          "state": {
            "_model_module": "@jupyter-widgets/controls",
            "_model_module_version": "1.5.0",
            "_model_name": "DescriptionStyleModel",
            "_view_count": null,
            "_view_module": "@jupyter-widgets/base",
            "_view_module_version": "1.2.0",
            "_view_name": "StyleView",
            "description_width": ""
          }
        },
        "e560062045894ef890ff8d83e4381d2c": {
          "model_module": "@jupyter-widgets/base",
          "model_name": "LayoutModel",
          "model_module_version": "1.2.0",
          "state": {
            "_model_module": "@jupyter-widgets/base",
            "_model_module_version": "1.2.0",
            "_model_name": "LayoutModel",
            "_view_count": null,
            "_view_module": "@jupyter-widgets/base",
            "_view_module_version": "1.2.0",
            "_view_name": "LayoutView",
            "align_content": null,
            "align_items": null,
            "align_self": null,
            "border": null,
            "bottom": null,
            "display": null,
            "flex": null,
            "flex_flow": null,
            "grid_area": null,
            "grid_auto_columns": null,
            "grid_auto_flow": null,
            "grid_auto_rows": null,
            "grid_column": null,
            "grid_gap": null,
            "grid_row": null,
            "grid_template_areas": null,
            "grid_template_columns": null,
            "grid_template_rows": null,
            "height": null,
            "justify_content": null,
            "justify_items": null,
            "left": null,
            "margin": null,
            "max_height": null,
            "max_width": null,
            "min_height": null,
            "min_width": null,
            "object_fit": null,
            "object_position": null,
            "order": null,
            "overflow": null,
            "overflow_x": null,
            "overflow_y": null,
            "padding": null,
            "right": null,
            "top": null,
            "visibility": null,
            "width": null
          }
        },
        "3e866ba237b84e7682192fe7b91da8b1": {
          "model_module": "@jupyter-widgets/controls",
          "model_name": "ProgressStyleModel",
          "model_module_version": "1.5.0",
          "state": {
            "_model_module": "@jupyter-widgets/controls",
            "_model_module_version": "1.5.0",
            "_model_name": "ProgressStyleModel",
            "_view_count": null,
            "_view_module": "@jupyter-widgets/base",
            "_view_module_version": "1.2.0",
            "_view_name": "StyleView",
            "bar_color": null,
            "description_width": ""
          }
        },
        "1d3c174c7ed44c6b8f8944b55adec431": {
          "model_module": "@jupyter-widgets/controls",
          "model_name": "HBoxModel",
          "model_module_version": "1.5.0",
          "state": {
            "_dom_classes": [],
            "_model_module": "@jupyter-widgets/controls",
            "_model_module_version": "1.5.0",
            "_model_name": "HBoxModel",
            "_view_count": null,
            "_view_module": "@jupyter-widgets/controls",
            "_view_module_version": "1.5.0",
            "_view_name": "HBoxView",
            "box_style": "",
            "children": [
              "IPY_MODEL_7c2344b3e3e940e08c7a87fb9e6f1f25",
              "IPY_MODEL_b6be106445094180abb653f00350d7b2",
              "IPY_MODEL_2191fd2f01a44f388a594f296b6ac083"
            ],
            "layout": "IPY_MODEL_2a7cb7019a444a8094053f79032e287b"
          }
        },
        "7c2344b3e3e940e08c7a87fb9e6f1f25": {
          "model_module": "@jupyter-widgets/controls",
          "model_name": "HTMLModel",
          "model_module_version": "1.5.0",
          "state": {
            "_dom_classes": [],
            "_model_module": "@jupyter-widgets/controls",
            "_model_module_version": "1.5.0",
            "_model_name": "HTMLModel",
            "_view_count": null,
            "_view_module": "@jupyter-widgets/controls",
            "_view_module_version": "1.5.0",
            "_view_name": "HTMLView",
            "description": "",
            "description_tooltip": null,
            "layout": "IPY_MODEL_67aa96e9863b4ce18c8c2dd02e22254a",
            "placeholder": "​",
            "style": "IPY_MODEL_ef936a62a0074d9bbdfa3ef0376f2f8c",
            "value": "100%"
          }
        },
        "b6be106445094180abb653f00350d7b2": {
          "model_module": "@jupyter-widgets/controls",
          "model_name": "FloatProgressModel",
          "model_module_version": "1.5.0",
          "state": {
            "_dom_classes": [],
            "_model_module": "@jupyter-widgets/controls",
            "_model_module_version": "1.5.0",
            "_model_name": "FloatProgressModel",
            "_view_count": null,
            "_view_module": "@jupyter-widgets/controls",
            "_view_module_version": "1.5.0",
            "_view_name": "ProgressView",
            "bar_style": "success",
            "description": "",
            "description_tooltip": null,
            "layout": "IPY_MODEL_c4d882b436704be7b021ac8ceba44333",
            "max": 12,
            "min": 0,
            "orientation": "horizontal",
            "style": "IPY_MODEL_fb56de9d40264637a243a4c917457be8",
            "value": 12
          }
        },
        "2191fd2f01a44f388a594f296b6ac083": {
          "model_module": "@jupyter-widgets/controls",
          "model_name": "HTMLModel",
          "model_module_version": "1.5.0",
          "state": {
            "_dom_classes": [],
            "_model_module": "@jupyter-widgets/controls",
            "_model_module_version": "1.5.0",
            "_model_name": "HTMLModel",
            "_view_count": null,
            "_view_module": "@jupyter-widgets/controls",
            "_view_module_version": "1.5.0",
            "_view_name": "HTMLView",
            "description": "",
            "description_tooltip": null,
            "layout": "IPY_MODEL_a79fbdf2dbbe4bbdb09bfc2f67d6af61",
            "placeholder": "​",
            "style": "IPY_MODEL_bbadc98447c941159c656bf7e0adfad5",
            "value": " 12/12 [01:50&lt;00:00,  8.01s/ba]"
          }
        },
        "2a7cb7019a444a8094053f79032e287b": {
          "model_module": "@jupyter-widgets/base",
          "model_name": "LayoutModel",
          "model_module_version": "1.2.0",
          "state": {
            "_model_module": "@jupyter-widgets/base",
            "_model_module_version": "1.2.0",
            "_model_name": "LayoutModel",
            "_view_count": null,
            "_view_module": "@jupyter-widgets/base",
            "_view_module_version": "1.2.0",
            "_view_name": "LayoutView",
            "align_content": null,
            "align_items": null,
            "align_self": null,
            "border": null,
            "bottom": null,
            "display": null,
            "flex": null,
            "flex_flow": null,
            "grid_area": null,
            "grid_auto_columns": null,
            "grid_auto_flow": null,
            "grid_auto_rows": null,
            "grid_column": null,
            "grid_gap": null,
            "grid_row": null,
            "grid_template_areas": null,
            "grid_template_columns": null,
            "grid_template_rows": null,
            "height": null,
            "justify_content": null,
            "justify_items": null,
            "left": null,
            "margin": null,
            "max_height": null,
            "max_width": null,
            "min_height": null,
            "min_width": null,
            "object_fit": null,
            "object_position": null,
            "order": null,
            "overflow": null,
            "overflow_x": null,
            "overflow_y": null,
            "padding": null,
            "right": null,
            "top": null,
            "visibility": null,
            "width": null
          }
        },
        "67aa96e9863b4ce18c8c2dd02e22254a": {
          "model_module": "@jupyter-widgets/base",
          "model_name": "LayoutModel",
          "model_module_version": "1.2.0",
          "state": {
            "_model_module": "@jupyter-widgets/base",
            "_model_module_version": "1.2.0",
            "_model_name": "LayoutModel",
            "_view_count": null,
            "_view_module": "@jupyter-widgets/base",
            "_view_module_version": "1.2.0",
            "_view_name": "LayoutView",
            "align_content": null,
            "align_items": null,
            "align_self": null,
            "border": null,
            "bottom": null,
            "display": null,
            "flex": null,
            "flex_flow": null,
            "grid_area": null,
            "grid_auto_columns": null,
            "grid_auto_flow": null,
            "grid_auto_rows": null,
            "grid_column": null,
            "grid_gap": null,
            "grid_row": null,
            "grid_template_areas": null,
            "grid_template_columns": null,
            "grid_template_rows": null,
            "height": null,
            "justify_content": null,
            "justify_items": null,
            "left": null,
            "margin": null,
            "max_height": null,
            "max_width": null,
            "min_height": null,
            "min_width": null,
            "object_fit": null,
            "object_position": null,
            "order": null,
            "overflow": null,
            "overflow_x": null,
            "overflow_y": null,
            "padding": null,
            "right": null,
            "top": null,
            "visibility": null,
            "width": null
          }
        },
        "ef936a62a0074d9bbdfa3ef0376f2f8c": {
          "model_module": "@jupyter-widgets/controls",
          "model_name": "DescriptionStyleModel",
          "model_module_version": "1.5.0",
          "state": {
            "_model_module": "@jupyter-widgets/controls",
            "_model_module_version": "1.5.0",
            "_model_name": "DescriptionStyleModel",
            "_view_count": null,
            "_view_module": "@jupyter-widgets/base",
            "_view_module_version": "1.2.0",
            "_view_name": "StyleView",
            "description_width": ""
          }
        },
        "c4d882b436704be7b021ac8ceba44333": {
          "model_module": "@jupyter-widgets/base",
          "model_name": "LayoutModel",
          "model_module_version": "1.2.0",
          "state": {
            "_model_module": "@jupyter-widgets/base",
            "_model_module_version": "1.2.0",
            "_model_name": "LayoutModel",
            "_view_count": null,
            "_view_module": "@jupyter-widgets/base",
            "_view_module_version": "1.2.0",
            "_view_name": "LayoutView",
            "align_content": null,
            "align_items": null,
            "align_self": null,
            "border": null,
            "bottom": null,
            "display": null,
            "flex": null,
            "flex_flow": null,
            "grid_area": null,
            "grid_auto_columns": null,
            "grid_auto_flow": null,
            "grid_auto_rows": null,
            "grid_column": null,
            "grid_gap": null,
            "grid_row": null,
            "grid_template_areas": null,
            "grid_template_columns": null,
            "grid_template_rows": null,
            "height": null,
            "justify_content": null,
            "justify_items": null,
            "left": null,
            "margin": null,
            "max_height": null,
            "max_width": null,
            "min_height": null,
            "min_width": null,
            "object_fit": null,
            "object_position": null,
            "order": null,
            "overflow": null,
            "overflow_x": null,
            "overflow_y": null,
            "padding": null,
            "right": null,
            "top": null,
            "visibility": null,
            "width": null
          }
        },
        "fb56de9d40264637a243a4c917457be8": {
          "model_module": "@jupyter-widgets/controls",
          "model_name": "ProgressStyleModel",
          "model_module_version": "1.5.0",
          "state": {
            "_model_module": "@jupyter-widgets/controls",
            "_model_module_version": "1.5.0",
            "_model_name": "ProgressStyleModel",
            "_view_count": null,
            "_view_module": "@jupyter-widgets/base",
            "_view_module_version": "1.2.0",
            "_view_name": "StyleView",
            "bar_color": null,
            "description_width": ""
          }
        },
        "a79fbdf2dbbe4bbdb09bfc2f67d6af61": {
          "model_module": "@jupyter-widgets/base",
          "model_name": "LayoutModel",
          "model_module_version": "1.2.0",
          "state": {
            "_model_module": "@jupyter-widgets/base",
            "_model_module_version": "1.2.0",
            "_model_name": "LayoutModel",
            "_view_count": null,
            "_view_module": "@jupyter-widgets/base",
            "_view_module_version": "1.2.0",
            "_view_name": "LayoutView",
            "align_content": null,
            "align_items": null,
            "align_self": null,
            "border": null,
            "bottom": null,
            "display": null,
            "flex": null,
            "flex_flow": null,
            "grid_area": null,
            "grid_auto_columns": null,
            "grid_auto_flow": null,
            "grid_auto_rows": null,
            "grid_column": null,
            "grid_gap": null,
            "grid_row": null,
            "grid_template_areas": null,
            "grid_template_columns": null,
            "grid_template_rows": null,
            "height": null,
            "justify_content": null,
            "justify_items": null,
            "left": null,
            "margin": null,
            "max_height": null,
            "max_width": null,
            "min_height": null,
            "min_width": null,
            "object_fit": null,
            "object_position": null,
            "order": null,
            "overflow": null,
            "overflow_x": null,
            "overflow_y": null,
            "padding": null,
            "right": null,
            "top": null,
            "visibility": null,
            "width": null
          }
        },
        "bbadc98447c941159c656bf7e0adfad5": {
          "model_module": "@jupyter-widgets/controls",
          "model_name": "DescriptionStyleModel",
          "model_module_version": "1.5.0",
          "state": {
            "_model_module": "@jupyter-widgets/controls",
            "_model_module_version": "1.5.0",
            "_model_name": "DescriptionStyleModel",
            "_view_count": null,
            "_view_module": "@jupyter-widgets/base",
            "_view_module_version": "1.2.0",
            "_view_name": "StyleView",
            "description_width": ""
          }
        },
        "19f2dc56ae9c490e8c560e2741bf932d": {
          "model_module": "@jupyter-widgets/controls",
          "model_name": "HBoxModel",
          "model_module_version": "1.5.0",
          "state": {
            "_dom_classes": [],
            "_model_module": "@jupyter-widgets/controls",
            "_model_module_version": "1.5.0",
            "_model_name": "HBoxModel",
            "_view_count": null,
            "_view_module": "@jupyter-widgets/controls",
            "_view_module_version": "1.5.0",
            "_view_name": "HBoxView",
            "box_style": "",
            "children": [
              "IPY_MODEL_2494e25ca8c3477f957bc7abc3900e1f",
              "IPY_MODEL_9ed6254e2eb64f329e4fc5c0435bc482",
              "IPY_MODEL_f299a61d27bd4e9790b2abb120ea77e0"
            ],
            "layout": "IPY_MODEL_d62af47d072e435192d1107ed315f36c"
          }
        },
        "2494e25ca8c3477f957bc7abc3900e1f": {
          "model_module": "@jupyter-widgets/controls",
          "model_name": "HTMLModel",
          "model_module_version": "1.5.0",
          "state": {
            "_dom_classes": [],
            "_model_module": "@jupyter-widgets/controls",
            "_model_module_version": "1.5.0",
            "_model_name": "HTMLModel",
            "_view_count": null,
            "_view_module": "@jupyter-widgets/controls",
            "_view_module_version": "1.5.0",
            "_view_name": "HTMLView",
            "description": "",
            "description_tooltip": null,
            "layout": "IPY_MODEL_f4f552bc95c6453c8ff4962549fdad34",
            "placeholder": "​",
            "style": "IPY_MODEL_efe2ba9a3b1f4f859c12f8d796bcdb64",
            "value": "100%"
          }
        },
        "9ed6254e2eb64f329e4fc5c0435bc482": {
          "model_module": "@jupyter-widgets/controls",
          "model_name": "FloatProgressModel",
          "model_module_version": "1.5.0",
          "state": {
            "_dom_classes": [],
            "_model_module": "@jupyter-widgets/controls",
            "_model_module_version": "1.5.0",
            "_model_name": "FloatProgressModel",
            "_view_count": null,
            "_view_module": "@jupyter-widgets/controls",
            "_view_module_version": "1.5.0",
            "_view_name": "ProgressView",
            "bar_style": "success",
            "description": "",
            "description_tooltip": null,
            "layout": "IPY_MODEL_b30959adb7e94c9281a75d924859f0b9",
            "max": 5,
            "min": 0,
            "orientation": "horizontal",
            "style": "IPY_MODEL_0f4d70e135ad4907bf0422f1de91ed43",
            "value": 5
          }
        },
        "f299a61d27bd4e9790b2abb120ea77e0": {
          "model_module": "@jupyter-widgets/controls",
          "model_name": "HTMLModel",
          "model_module_version": "1.5.0",
          "state": {
            "_dom_classes": [],
            "_model_module": "@jupyter-widgets/controls",
            "_model_module_version": "1.5.0",
            "_model_name": "HTMLModel",
            "_view_count": null,
            "_view_module": "@jupyter-widgets/controls",
            "_view_module_version": "1.5.0",
            "_view_name": "HTMLView",
            "description": "",
            "description_tooltip": null,
            "layout": "IPY_MODEL_c042ca563a024344abaa975505458204",
            "placeholder": "​",
            "style": "IPY_MODEL_65ad7fc9c42547db8353a5e244158dfa",
            "value": " 5/5 [00:48&lt;00:00,  9.25s/ba]"
          }
        },
        "d62af47d072e435192d1107ed315f36c": {
          "model_module": "@jupyter-widgets/base",
          "model_name": "LayoutModel",
          "model_module_version": "1.2.0",
          "state": {
            "_model_module": "@jupyter-widgets/base",
            "_model_module_version": "1.2.0",
            "_model_name": "LayoutModel",
            "_view_count": null,
            "_view_module": "@jupyter-widgets/base",
            "_view_module_version": "1.2.0",
            "_view_name": "LayoutView",
            "align_content": null,
            "align_items": null,
            "align_self": null,
            "border": null,
            "bottom": null,
            "display": null,
            "flex": null,
            "flex_flow": null,
            "grid_area": null,
            "grid_auto_columns": null,
            "grid_auto_flow": null,
            "grid_auto_rows": null,
            "grid_column": null,
            "grid_gap": null,
            "grid_row": null,
            "grid_template_areas": null,
            "grid_template_columns": null,
            "grid_template_rows": null,
            "height": null,
            "justify_content": null,
            "justify_items": null,
            "left": null,
            "margin": null,
            "max_height": null,
            "max_width": null,
            "min_height": null,
            "min_width": null,
            "object_fit": null,
            "object_position": null,
            "order": null,
            "overflow": null,
            "overflow_x": null,
            "overflow_y": null,
            "padding": null,
            "right": null,
            "top": null,
            "visibility": null,
            "width": null
          }
        },
        "f4f552bc95c6453c8ff4962549fdad34": {
          "model_module": "@jupyter-widgets/base",
          "model_name": "LayoutModel",
          "model_module_version": "1.2.0",
          "state": {
            "_model_module": "@jupyter-widgets/base",
            "_model_module_version": "1.2.0",
            "_model_name": "LayoutModel",
            "_view_count": null,
            "_view_module": "@jupyter-widgets/base",
            "_view_module_version": "1.2.0",
            "_view_name": "LayoutView",
            "align_content": null,
            "align_items": null,
            "align_self": null,
            "border": null,
            "bottom": null,
            "display": null,
            "flex": null,
            "flex_flow": null,
            "grid_area": null,
            "grid_auto_columns": null,
            "grid_auto_flow": null,
            "grid_auto_rows": null,
            "grid_column": null,
            "grid_gap": null,
            "grid_row": null,
            "grid_template_areas": null,
            "grid_template_columns": null,
            "grid_template_rows": null,
            "height": null,
            "justify_content": null,
            "justify_items": null,
            "left": null,
            "margin": null,
            "max_height": null,
            "max_width": null,
            "min_height": null,
            "min_width": null,
            "object_fit": null,
            "object_position": null,
            "order": null,
            "overflow": null,
            "overflow_x": null,
            "overflow_y": null,
            "padding": null,
            "right": null,
            "top": null,
            "visibility": null,
            "width": null
          }
        },
        "efe2ba9a3b1f4f859c12f8d796bcdb64": {
          "model_module": "@jupyter-widgets/controls",
          "model_name": "DescriptionStyleModel",
          "model_module_version": "1.5.0",
          "state": {
            "_model_module": "@jupyter-widgets/controls",
            "_model_module_version": "1.5.0",
            "_model_name": "DescriptionStyleModel",
            "_view_count": null,
            "_view_module": "@jupyter-widgets/base",
            "_view_module_version": "1.2.0",
            "_view_name": "StyleView",
            "description_width": ""
          }
        },
        "b30959adb7e94c9281a75d924859f0b9": {
          "model_module": "@jupyter-widgets/base",
          "model_name": "LayoutModel",
          "model_module_version": "1.2.0",
          "state": {
            "_model_module": "@jupyter-widgets/base",
            "_model_module_version": "1.2.0",
            "_model_name": "LayoutModel",
            "_view_count": null,
            "_view_module": "@jupyter-widgets/base",
            "_view_module_version": "1.2.0",
            "_view_name": "LayoutView",
            "align_content": null,
            "align_items": null,
            "align_self": null,
            "border": null,
            "bottom": null,
            "display": null,
            "flex": null,
            "flex_flow": null,
            "grid_area": null,
            "grid_auto_columns": null,
            "grid_auto_flow": null,
            "grid_auto_rows": null,
            "grid_column": null,
            "grid_gap": null,
            "grid_row": null,
            "grid_template_areas": null,
            "grid_template_columns": null,
            "grid_template_rows": null,
            "height": null,
            "justify_content": null,
            "justify_items": null,
            "left": null,
            "margin": null,
            "max_height": null,
            "max_width": null,
            "min_height": null,
            "min_width": null,
            "object_fit": null,
            "object_position": null,
            "order": null,
            "overflow": null,
            "overflow_x": null,
            "overflow_y": null,
            "padding": null,
            "right": null,
            "top": null,
            "visibility": null,
            "width": null
          }
        },
        "0f4d70e135ad4907bf0422f1de91ed43": {
          "model_module": "@jupyter-widgets/controls",
          "model_name": "ProgressStyleModel",
          "model_module_version": "1.5.0",
          "state": {
            "_model_module": "@jupyter-widgets/controls",
            "_model_module_version": "1.5.0",
            "_model_name": "ProgressStyleModel",
            "_view_count": null,
            "_view_module": "@jupyter-widgets/base",
            "_view_module_version": "1.2.0",
            "_view_name": "StyleView",
            "bar_color": null,
            "description_width": ""
          }
        },
        "c042ca563a024344abaa975505458204": {
          "model_module": "@jupyter-widgets/base",
          "model_name": "LayoutModel",
          "model_module_version": "1.2.0",
          "state": {
            "_model_module": "@jupyter-widgets/base",
            "_model_module_version": "1.2.0",
            "_model_name": "LayoutModel",
            "_view_count": null,
            "_view_module": "@jupyter-widgets/base",
            "_view_module_version": "1.2.0",
            "_view_name": "LayoutView",
            "align_content": null,
            "align_items": null,
            "align_self": null,
            "border": null,
            "bottom": null,
            "display": null,
            "flex": null,
            "flex_flow": null,
            "grid_area": null,
            "grid_auto_columns": null,
            "grid_auto_flow": null,
            "grid_auto_rows": null,
            "grid_column": null,
            "grid_gap": null,
            "grid_row": null,
            "grid_template_areas": null,
            "grid_template_columns": null,
            "grid_template_rows": null,
            "height": null,
            "justify_content": null,
            "justify_items": null,
            "left": null,
            "margin": null,
            "max_height": null,
            "max_width": null,
            "min_height": null,
            "min_width": null,
            "object_fit": null,
            "object_position": null,
            "order": null,
            "overflow": null,
            "overflow_x": null,
            "overflow_y": null,
            "padding": null,
            "right": null,
            "top": null,
            "visibility": null,
            "width": null
          }
        },
        "65ad7fc9c42547db8353a5e244158dfa": {
          "model_module": "@jupyter-widgets/controls",
          "model_name": "DescriptionStyleModel",
          "model_module_version": "1.5.0",
          "state": {
            "_model_module": "@jupyter-widgets/controls",
            "_model_module_version": "1.5.0",
            "_model_name": "DescriptionStyleModel",
            "_view_count": null,
            "_view_module": "@jupyter-widgets/base",
            "_view_module_version": "1.2.0",
            "_view_name": "StyleView",
            "description_width": ""
          }
        },
        "ac8eb707e6224665be9d9e6f317834b3": {
          "model_module": "@jupyter-widgets/controls",
          "model_name": "HBoxModel",
          "model_module_version": "1.5.0",
          "state": {
            "_dom_classes": [],
            "_model_module": "@jupyter-widgets/controls",
            "_model_module_version": "1.5.0",
            "_model_name": "HBoxModel",
            "_view_count": null,
            "_view_module": "@jupyter-widgets/controls",
            "_view_module_version": "1.5.0",
            "_view_name": "HBoxView",
            "box_style": "",
            "children": [
              "IPY_MODEL_209bd215a71c4bf581a5e1e8f0273831",
              "IPY_MODEL_e724c98c247d4f439af682636aef3ace",
              "IPY_MODEL_68dd3c4c20b04c4fa9fd9a1f2efbc3ba"
            ],
            "layout": "IPY_MODEL_77d55b34c49040bca0251b05ff58446a"
          }
        },
        "209bd215a71c4bf581a5e1e8f0273831": {
          "model_module": "@jupyter-widgets/controls",
          "model_name": "HTMLModel",
          "model_module_version": "1.5.0",
          "state": {
            "_dom_classes": [],
            "_model_module": "@jupyter-widgets/controls",
            "_model_module_version": "1.5.0",
            "_model_name": "HTMLModel",
            "_view_count": null,
            "_view_module": "@jupyter-widgets/controls",
            "_view_module_version": "1.5.0",
            "_view_name": "HTMLView",
            "description": "",
            "description_tooltip": null,
            "layout": "IPY_MODEL_1943e1a60e8340a19991701da75faf84",
            "placeholder": "​",
            "style": "IPY_MODEL_a730f8eca6674563a27715b607af07e3",
            "value": "100%"
          }
        },
        "e724c98c247d4f439af682636aef3ace": {
          "model_module": "@jupyter-widgets/controls",
          "model_name": "FloatProgressModel",
          "model_module_version": "1.5.0",
          "state": {
            "_dom_classes": [],
            "_model_module": "@jupyter-widgets/controls",
            "_model_module_version": "1.5.0",
            "_model_name": "FloatProgressModel",
            "_view_count": null,
            "_view_module": "@jupyter-widgets/controls",
            "_view_module_version": "1.5.0",
            "_view_name": "ProgressView",
            "bar_style": "success",
            "description": "",
            "description_tooltip": null,
            "layout": "IPY_MODEL_8eab4bb12c2c46aeaaecd931534aad4c",
            "max": 12,
            "min": 0,
            "orientation": "horizontal",
            "style": "IPY_MODEL_9d85aacb2f714469a582f64a6fac8647",
            "value": 12
          }
        },
        "68dd3c4c20b04c4fa9fd9a1f2efbc3ba": {
          "model_module": "@jupyter-widgets/controls",
          "model_name": "HTMLModel",
          "model_module_version": "1.5.0",
          "state": {
            "_dom_classes": [],
            "_model_module": "@jupyter-widgets/controls",
            "_model_module_version": "1.5.0",
            "_model_name": "HTMLModel",
            "_view_count": null,
            "_view_module": "@jupyter-widgets/controls",
            "_view_module_version": "1.5.0",
            "_view_name": "HTMLView",
            "description": "",
            "description_tooltip": null,
            "layout": "IPY_MODEL_6bed2872120e4f339673ba75bc26d71c",
            "placeholder": "​",
            "style": "IPY_MODEL_94e3562d33fc45e18908d406695950ae",
            "value": " 12/12 [01:50&lt;00:00,  7.87s/ba]"
          }
        },
        "77d55b34c49040bca0251b05ff58446a": {
          "model_module": "@jupyter-widgets/base",
          "model_name": "LayoutModel",
          "model_module_version": "1.2.0",
          "state": {
            "_model_module": "@jupyter-widgets/base",
            "_model_module_version": "1.2.0",
            "_model_name": "LayoutModel",
            "_view_count": null,
            "_view_module": "@jupyter-widgets/base",
            "_view_module_version": "1.2.0",
            "_view_name": "LayoutView",
            "align_content": null,
            "align_items": null,
            "align_self": null,
            "border": null,
            "bottom": null,
            "display": null,
            "flex": null,
            "flex_flow": null,
            "grid_area": null,
            "grid_auto_columns": null,
            "grid_auto_flow": null,
            "grid_auto_rows": null,
            "grid_column": null,
            "grid_gap": null,
            "grid_row": null,
            "grid_template_areas": null,
            "grid_template_columns": null,
            "grid_template_rows": null,
            "height": null,
            "justify_content": null,
            "justify_items": null,
            "left": null,
            "margin": null,
            "max_height": null,
            "max_width": null,
            "min_height": null,
            "min_width": null,
            "object_fit": null,
            "object_position": null,
            "order": null,
            "overflow": null,
            "overflow_x": null,
            "overflow_y": null,
            "padding": null,
            "right": null,
            "top": null,
            "visibility": null,
            "width": null
          }
        },
        "1943e1a60e8340a19991701da75faf84": {
          "model_module": "@jupyter-widgets/base",
          "model_name": "LayoutModel",
          "model_module_version": "1.2.0",
          "state": {
            "_model_module": "@jupyter-widgets/base",
            "_model_module_version": "1.2.0",
            "_model_name": "LayoutModel",
            "_view_count": null,
            "_view_module": "@jupyter-widgets/base",
            "_view_module_version": "1.2.0",
            "_view_name": "LayoutView",
            "align_content": null,
            "align_items": null,
            "align_self": null,
            "border": null,
            "bottom": null,
            "display": null,
            "flex": null,
            "flex_flow": null,
            "grid_area": null,
            "grid_auto_columns": null,
            "grid_auto_flow": null,
            "grid_auto_rows": null,
            "grid_column": null,
            "grid_gap": null,
            "grid_row": null,
            "grid_template_areas": null,
            "grid_template_columns": null,
            "grid_template_rows": null,
            "height": null,
            "justify_content": null,
            "justify_items": null,
            "left": null,
            "margin": null,
            "max_height": null,
            "max_width": null,
            "min_height": null,
            "min_width": null,
            "object_fit": null,
            "object_position": null,
            "order": null,
            "overflow": null,
            "overflow_x": null,
            "overflow_y": null,
            "padding": null,
            "right": null,
            "top": null,
            "visibility": null,
            "width": null
          }
        },
        "a730f8eca6674563a27715b607af07e3": {
          "model_module": "@jupyter-widgets/controls",
          "model_name": "DescriptionStyleModel",
          "model_module_version": "1.5.0",
          "state": {
            "_model_module": "@jupyter-widgets/controls",
            "_model_module_version": "1.5.0",
            "_model_name": "DescriptionStyleModel",
            "_view_count": null,
            "_view_module": "@jupyter-widgets/base",
            "_view_module_version": "1.2.0",
            "_view_name": "StyleView",
            "description_width": ""
          }
        },
        "8eab4bb12c2c46aeaaecd931534aad4c": {
          "model_module": "@jupyter-widgets/base",
          "model_name": "LayoutModel",
          "model_module_version": "1.2.0",
          "state": {
            "_model_module": "@jupyter-widgets/base",
            "_model_module_version": "1.2.0",
            "_model_name": "LayoutModel",
            "_view_count": null,
            "_view_module": "@jupyter-widgets/base",
            "_view_module_version": "1.2.0",
            "_view_name": "LayoutView",
            "align_content": null,
            "align_items": null,
            "align_self": null,
            "border": null,
            "bottom": null,
            "display": null,
            "flex": null,
            "flex_flow": null,
            "grid_area": null,
            "grid_auto_columns": null,
            "grid_auto_flow": null,
            "grid_auto_rows": null,
            "grid_column": null,
            "grid_gap": null,
            "grid_row": null,
            "grid_template_areas": null,
            "grid_template_columns": null,
            "grid_template_rows": null,
            "height": null,
            "justify_content": null,
            "justify_items": null,
            "left": null,
            "margin": null,
            "max_height": null,
            "max_width": null,
            "min_height": null,
            "min_width": null,
            "object_fit": null,
            "object_position": null,
            "order": null,
            "overflow": null,
            "overflow_x": null,
            "overflow_y": null,
            "padding": null,
            "right": null,
            "top": null,
            "visibility": null,
            "width": null
          }
        },
        "9d85aacb2f714469a582f64a6fac8647": {
          "model_module": "@jupyter-widgets/controls",
          "model_name": "ProgressStyleModel",
          "model_module_version": "1.5.0",
          "state": {
            "_model_module": "@jupyter-widgets/controls",
            "_model_module_version": "1.5.0",
            "_model_name": "ProgressStyleModel",
            "_view_count": null,
            "_view_module": "@jupyter-widgets/base",
            "_view_module_version": "1.2.0",
            "_view_name": "StyleView",
            "bar_color": null,
            "description_width": ""
          }
        },
        "6bed2872120e4f339673ba75bc26d71c": {
          "model_module": "@jupyter-widgets/base",
          "model_name": "LayoutModel",
          "model_module_version": "1.2.0",
          "state": {
            "_model_module": "@jupyter-widgets/base",
            "_model_module_version": "1.2.0",
            "_model_name": "LayoutModel",
            "_view_count": null,
            "_view_module": "@jupyter-widgets/base",
            "_view_module_version": "1.2.0",
            "_view_name": "LayoutView",
            "align_content": null,
            "align_items": null,
            "align_self": null,
            "border": null,
            "bottom": null,
            "display": null,
            "flex": null,
            "flex_flow": null,
            "grid_area": null,
            "grid_auto_columns": null,
            "grid_auto_flow": null,
            "grid_auto_rows": null,
            "grid_column": null,
            "grid_gap": null,
            "grid_row": null,
            "grid_template_areas": null,
            "grid_template_columns": null,
            "grid_template_rows": null,
            "height": null,
            "justify_content": null,
            "justify_items": null,
            "left": null,
            "margin": null,
            "max_height": null,
            "max_width": null,
            "min_height": null,
            "min_width": null,
            "object_fit": null,
            "object_position": null,
            "order": null,
            "overflow": null,
            "overflow_x": null,
            "overflow_y": null,
            "padding": null,
            "right": null,
            "top": null,
            "visibility": null,
            "width": null
          }
        },
        "94e3562d33fc45e18908d406695950ae": {
          "model_module": "@jupyter-widgets/controls",
          "model_name": "DescriptionStyleModel",
          "model_module_version": "1.5.0",
          "state": {
            "_model_module": "@jupyter-widgets/controls",
            "_model_module_version": "1.5.0",
            "_model_name": "DescriptionStyleModel",
            "_view_count": null,
            "_view_module": "@jupyter-widgets/base",
            "_view_module_version": "1.2.0",
            "_view_name": "StyleView",
            "description_width": ""
          }
        },
        "371e72aa26544d98882096c6ec3a9998": {
          "model_module": "@jupyter-widgets/controls",
          "model_name": "HBoxModel",
          "model_module_version": "1.5.0",
          "state": {
            "_dom_classes": [],
            "_model_module": "@jupyter-widgets/controls",
            "_model_module_version": "1.5.0",
            "_model_name": "HBoxModel",
            "_view_count": null,
            "_view_module": "@jupyter-widgets/controls",
            "_view_module_version": "1.5.0",
            "_view_name": "HBoxView",
            "box_style": "",
            "children": [
              "IPY_MODEL_be2a039c98814dbfa0f987dedc8dce8d",
              "IPY_MODEL_7b7de6a5287347baa558021fe4311b9d",
              "IPY_MODEL_e7ce19debe424cc1b5ecaabdf51c9c84"
            ],
            "layout": "IPY_MODEL_5e05736c4d4c4ed693a5349b1b42796d"
          }
        },
        "be2a039c98814dbfa0f987dedc8dce8d": {
          "model_module": "@jupyter-widgets/controls",
          "model_name": "HTMLModel",
          "model_module_version": "1.5.0",
          "state": {
            "_dom_classes": [],
            "_model_module": "@jupyter-widgets/controls",
            "_model_module_version": "1.5.0",
            "_model_name": "HTMLModel",
            "_view_count": null,
            "_view_module": "@jupyter-widgets/controls",
            "_view_module_version": "1.5.0",
            "_view_name": "HTMLView",
            "description": "",
            "description_tooltip": null,
            "layout": "IPY_MODEL_e85cc9c62b5743758bb2d3f54a053ed5",
            "placeholder": "​",
            "style": "IPY_MODEL_5cc19e7ea157457394d372627db8d5ae",
            "value": "100%"
          }
        },
        "7b7de6a5287347baa558021fe4311b9d": {
          "model_module": "@jupyter-widgets/controls",
          "model_name": "FloatProgressModel",
          "model_module_version": "1.5.0",
          "state": {
            "_dom_classes": [],
            "_model_module": "@jupyter-widgets/controls",
            "_model_module_version": "1.5.0",
            "_model_name": "FloatProgressModel",
            "_view_count": null,
            "_view_module": "@jupyter-widgets/controls",
            "_view_module_version": "1.5.0",
            "_view_name": "ProgressView",
            "bar_style": "success",
            "description": "",
            "description_tooltip": null,
            "layout": "IPY_MODEL_2a33cc3c5d65408381b501f6a759535a",
            "max": 5,
            "min": 0,
            "orientation": "horizontal",
            "style": "IPY_MODEL_ce54de2e86694c758d054dab21f2708b",
            "value": 5
          }
        },
        "e7ce19debe424cc1b5ecaabdf51c9c84": {
          "model_module": "@jupyter-widgets/controls",
          "model_name": "HTMLModel",
          "model_module_version": "1.5.0",
          "state": {
            "_dom_classes": [],
            "_model_module": "@jupyter-widgets/controls",
            "_model_module_version": "1.5.0",
            "_model_name": "HTMLModel",
            "_view_count": null,
            "_view_module": "@jupyter-widgets/controls",
            "_view_module_version": "1.5.0",
            "_view_name": "HTMLView",
            "description": "",
            "description_tooltip": null,
            "layout": "IPY_MODEL_658e52915a164dc3a179716c2d103335",
            "placeholder": "​",
            "style": "IPY_MODEL_2eec890a712f466a8f29ec53f25638ee",
            "value": " 5/5 [00:47&lt;00:00,  9.51s/ba]"
          }
        },
        "5e05736c4d4c4ed693a5349b1b42796d": {
          "model_module": "@jupyter-widgets/base",
          "model_name": "LayoutModel",
          "model_module_version": "1.2.0",
          "state": {
            "_model_module": "@jupyter-widgets/base",
            "_model_module_version": "1.2.0",
            "_model_name": "LayoutModel",
            "_view_count": null,
            "_view_module": "@jupyter-widgets/base",
            "_view_module_version": "1.2.0",
            "_view_name": "LayoutView",
            "align_content": null,
            "align_items": null,
            "align_self": null,
            "border": null,
            "bottom": null,
            "display": null,
            "flex": null,
            "flex_flow": null,
            "grid_area": null,
            "grid_auto_columns": null,
            "grid_auto_flow": null,
            "grid_auto_rows": null,
            "grid_column": null,
            "grid_gap": null,
            "grid_row": null,
            "grid_template_areas": null,
            "grid_template_columns": null,
            "grid_template_rows": null,
            "height": null,
            "justify_content": null,
            "justify_items": null,
            "left": null,
            "margin": null,
            "max_height": null,
            "max_width": null,
            "min_height": null,
            "min_width": null,
            "object_fit": null,
            "object_position": null,
            "order": null,
            "overflow": null,
            "overflow_x": null,
            "overflow_y": null,
            "padding": null,
            "right": null,
            "top": null,
            "visibility": null,
            "width": null
          }
        },
        "e85cc9c62b5743758bb2d3f54a053ed5": {
          "model_module": "@jupyter-widgets/base",
          "model_name": "LayoutModel",
          "model_module_version": "1.2.0",
          "state": {
            "_model_module": "@jupyter-widgets/base",
            "_model_module_version": "1.2.0",
            "_model_name": "LayoutModel",
            "_view_count": null,
            "_view_module": "@jupyter-widgets/base",
            "_view_module_version": "1.2.0",
            "_view_name": "LayoutView",
            "align_content": null,
            "align_items": null,
            "align_self": null,
            "border": null,
            "bottom": null,
            "display": null,
            "flex": null,
            "flex_flow": null,
            "grid_area": null,
            "grid_auto_columns": null,
            "grid_auto_flow": null,
            "grid_auto_rows": null,
            "grid_column": null,
            "grid_gap": null,
            "grid_row": null,
            "grid_template_areas": null,
            "grid_template_columns": null,
            "grid_template_rows": null,
            "height": null,
            "justify_content": null,
            "justify_items": null,
            "left": null,
            "margin": null,
            "max_height": null,
            "max_width": null,
            "min_height": null,
            "min_width": null,
            "object_fit": null,
            "object_position": null,
            "order": null,
            "overflow": null,
            "overflow_x": null,
            "overflow_y": null,
            "padding": null,
            "right": null,
            "top": null,
            "visibility": null,
            "width": null
          }
        },
        "5cc19e7ea157457394d372627db8d5ae": {
          "model_module": "@jupyter-widgets/controls",
          "model_name": "DescriptionStyleModel",
          "model_module_version": "1.5.0",
          "state": {
            "_model_module": "@jupyter-widgets/controls",
            "_model_module_version": "1.5.0",
            "_model_name": "DescriptionStyleModel",
            "_view_count": null,
            "_view_module": "@jupyter-widgets/base",
            "_view_module_version": "1.2.0",
            "_view_name": "StyleView",
            "description_width": ""
          }
        },
        "2a33cc3c5d65408381b501f6a759535a": {
          "model_module": "@jupyter-widgets/base",
          "model_name": "LayoutModel",
          "model_module_version": "1.2.0",
          "state": {
            "_model_module": "@jupyter-widgets/base",
            "_model_module_version": "1.2.0",
            "_model_name": "LayoutModel",
            "_view_count": null,
            "_view_module": "@jupyter-widgets/base",
            "_view_module_version": "1.2.0",
            "_view_name": "LayoutView",
            "align_content": null,
            "align_items": null,
            "align_self": null,
            "border": null,
            "bottom": null,
            "display": null,
            "flex": null,
            "flex_flow": null,
            "grid_area": null,
            "grid_auto_columns": null,
            "grid_auto_flow": null,
            "grid_auto_rows": null,
            "grid_column": null,
            "grid_gap": null,
            "grid_row": null,
            "grid_template_areas": null,
            "grid_template_columns": null,
            "grid_template_rows": null,
            "height": null,
            "justify_content": null,
            "justify_items": null,
            "left": null,
            "margin": null,
            "max_height": null,
            "max_width": null,
            "min_height": null,
            "min_width": null,
            "object_fit": null,
            "object_position": null,
            "order": null,
            "overflow": null,
            "overflow_x": null,
            "overflow_y": null,
            "padding": null,
            "right": null,
            "top": null,
            "visibility": null,
            "width": null
          }
        },
        "ce54de2e86694c758d054dab21f2708b": {
          "model_module": "@jupyter-widgets/controls",
          "model_name": "ProgressStyleModel",
          "model_module_version": "1.5.0",
          "state": {
            "_model_module": "@jupyter-widgets/controls",
            "_model_module_version": "1.5.0",
            "_model_name": "ProgressStyleModel",
            "_view_count": null,
            "_view_module": "@jupyter-widgets/base",
            "_view_module_version": "1.2.0",
            "_view_name": "StyleView",
            "bar_color": null,
            "description_width": ""
          }
        },
        "658e52915a164dc3a179716c2d103335": {
          "model_module": "@jupyter-widgets/base",
          "model_name": "LayoutModel",
          "model_module_version": "1.2.0",
          "state": {
            "_model_module": "@jupyter-widgets/base",
            "_model_module_version": "1.2.0",
            "_model_name": "LayoutModel",
            "_view_count": null,
            "_view_module": "@jupyter-widgets/base",
            "_view_module_version": "1.2.0",
            "_view_name": "LayoutView",
            "align_content": null,
            "align_items": null,
            "align_self": null,
            "border": null,
            "bottom": null,
            "display": null,
            "flex": null,
            "flex_flow": null,
            "grid_area": null,
            "grid_auto_columns": null,
            "grid_auto_flow": null,
            "grid_auto_rows": null,
            "grid_column": null,
            "grid_gap": null,
            "grid_row": null,
            "grid_template_areas": null,
            "grid_template_columns": null,
            "grid_template_rows": null,
            "height": null,
            "justify_content": null,
            "justify_items": null,
            "left": null,
            "margin": null,
            "max_height": null,
            "max_width": null,
            "min_height": null,
            "min_width": null,
            "object_fit": null,
            "object_position": null,
            "order": null,
            "overflow": null,
            "overflow_x": null,
            "overflow_y": null,
            "padding": null,
            "right": null,
            "top": null,
            "visibility": null,
            "width": null
          }
        },
        "2eec890a712f466a8f29ec53f25638ee": {
          "model_module": "@jupyter-widgets/controls",
          "model_name": "DescriptionStyleModel",
          "model_module_version": "1.5.0",
          "state": {
            "_model_module": "@jupyter-widgets/controls",
            "_model_module_version": "1.5.0",
            "_model_name": "DescriptionStyleModel",
            "_view_count": null,
            "_view_module": "@jupyter-widgets/base",
            "_view_module_version": "1.2.0",
            "_view_name": "StyleView",
            "description_width": ""
          }
        }
      }
    }
  },
  "nbformat": 4,
  "nbformat_minor": 0
}